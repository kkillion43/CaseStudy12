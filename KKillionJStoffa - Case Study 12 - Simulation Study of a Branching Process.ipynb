{
 "cells": [
  {
   "cell_type": "markdown",
   "metadata": {
    "toc": true
   },
   "source": [
    "<h1>Table of Contents<span class=\"tocSkip\"></span></h1>\n",
    "<div class=\"toc\" style=\"margin-top: 1em;\"><ul class=\"toc-item\"><li><span><a href=\"#Case-Study-12---Simulation-Study-of-a-Branching-Process\" data-toc-modified-id=\"Case-Study-12---Simulation-Study-of-a-Branching-Process-1\"><span class=\"toc-item-num\">1&nbsp;&nbsp;</span>Case Study 12 - Simulation Study of a Branching Process</a></span><ul class=\"toc-item\"><li><span><a href=\"#Abstract:\" data-toc-modified-id=\"Abstract:-1.1\"><span class=\"toc-item-num\">1.1&nbsp;&nbsp;</span>Abstract:</a></span></li></ul></li><li><span><a href=\"#Introduction\" data-toc-modified-id=\"Introduction-2\"><span class=\"toc-item-num\">2&nbsp;&nbsp;</span>Introduction</a></span></li><li><span><a href=\"#Methods\" data-toc-modified-id=\"Methods-3\"><span class=\"toc-item-num\">3&nbsp;&nbsp;</span>Methods</a></span><ul class=\"toc-item\"><li><span><a href=\"#Monte-Carlo-generation-of-3-Exponential(1)-rv's\" data-toc-modified-id=\"Monte-Carlo-generation-of-3-Exponential(1)-rv's-3.1\"><span class=\"toc-item-num\">3.1&nbsp;&nbsp;</span>Monte Carlo generation of 3 Exponential(1) rv's</a></span></li><li><span><a href=\"#Exploring-the-random-process\" data-toc-modified-id=\"Exploring-the-random-process-3.2\"><span class=\"toc-item-num\">3.2&nbsp;&nbsp;</span>Exploring the random process</a></span></li><li><span><a href=\"#Profiling-code-performance\" data-toc-modified-id=\"Profiling-code-performance-3.3\"><span class=\"toc-item-num\">3.3&nbsp;&nbsp;</span>Profiling code performance</a></span></li><li><span><a href=\"#Family-tree\" data-toc-modified-id=\"Family-tree-3.4\"><span class=\"toc-item-num\">3.4&nbsp;&nbsp;</span>Family tree</a></span></li><li><span><a href=\"#Replicating-the-simulation\" data-toc-modified-id=\"Replicating-the-simulation-3.5\"><span class=\"toc-item-num\">3.5&nbsp;&nbsp;</span>Replicating the simulation</a></span></li></ul></li><li><span><a href=\"#Q.6---Make-a-Custom-Visualization\" data-toc-modified-id=\"Q.6---Make-a-Custom-Visualization-4\"><span class=\"toc-item-num\">4&nbsp;&nbsp;</span>Q.6 - Make a Custom Visualization</a></span><ul class=\"toc-item\"><li><span><a href=\"#Dendrograms-and-Phylogenetic-Fans\" data-toc-modified-id=\"Dendrograms-and-Phylogenetic-Fans-4.1\"><span class=\"toc-item-num\">4.1&nbsp;&nbsp;</span>Dendrograms and Phylogenetic Fans</a></span><ul class=\"toc-item\"><li><span><a href=\"#Dendrograms-and-Phylogenetic-Fans-with-Groupby\" data-toc-modified-id=\"Dendrograms-and-Phylogenetic-Fans-with-Groupby-4.1.1\"><span class=\"toc-item-num\">4.1.1&nbsp;&nbsp;</span>Dendrograms and Phylogenetic Fans with Groupby</a></span></li><li><span><a href=\"#Dendrograms-and-Phylogenetic-Fans-with-Groupby\" data-toc-modified-id=\"Dendrograms-and-Phylogenetic-Fans-with-Groupby-4.1.2\"><span class=\"toc-item-num\">4.1.2&nbsp;&nbsp;</span>Dendrograms and Phylogenetic Fans with Groupby</a></span></li></ul></li></ul></li><li><span><a href=\"#Conclusion\" data-toc-modified-id=\"Conclusion-5\"><span class=\"toc-item-num\">5&nbsp;&nbsp;</span>Conclusion</a></span></li></ul></div>"
   ]
  },
  {
   "cell_type": "markdown",
   "metadata": {},
   "source": [
    "# Case Study 12 - Simulation Study of a Branching Process\n",
    "DataScience@SMU\n",
    "<hr>\n",
    "__Data Scientist:__ _Kyle Killion and Joseph Stoffa_"
   ]
  },
  {
   "cell_type": "markdown",
   "metadata": {},
   "source": [
    "## Abstract:\n",
    "\n",
    "This project aims to explore The Monte Carlo method, simulation, and random number generation with built-in probability distribution generators. With these tools, we can then begin to generate inference off the open-ended theories that might not be able to go \"coast-to-coast\" in solving. \n",
    "\n",
    "ref: __Gaston Sanchez, https://rpubs.com/gaston/dendrograms__"
   ]
  },
  {
   "cell_type": "markdown",
   "metadata": {},
   "source": [
    "# Introduction\n",
    "\n",
    "The probability distributions that are utilized in this study are the Poisson distribution, Chi-Squared Distribution, and Exponential Distribution. The Exponential Distribution, a very popular continuous distribution, is often utilized to model the time elapsed between events. One of the key points about this distribution is that it is memoryless. This is meaning that having different starting points cannot be used to determine equal life expectancies. The Poisson distribution depicts the probabilities of an event happening on any given time interval. These events happening within the given time have to be independent from each other in order to fall within the Poisson assumption. The Chi Square distribution is leveraged in way of overlaying a theoretically distribution over an observed distribution. This can be comparable to seeing how big your kids are to the theoretically distribution of kids at that age. So, as we go through our Monte Carlo Simulations, we can then begin to explore how these computer threads behave. Code antics and preferred techniques are trudged through along the way such as recursion and vectorization.  In section 4 we answer question 6 from the text and provide a alternative visualizations followed by a brief discussion of the their implementation."
   ]
  },
  {
   "cell_type": "code",
   "execution_count": 1,
   "metadata": {
    "ExecuteTime": {
     "end_time": "2017-12-06T02:00:29.179819Z",
     "start_time": "2017-12-06T02:00:29.150Z"
    }
   },
   "outputs": [],
   "source": [
    "setwd('C:/Users/hb13316/Documents/SMU/QTW/Chapter 7')"
   ]
  },
  {
   "cell_type": "markdown",
   "metadata": {},
   "source": [
    "# Methods\n",
    "<hr>\n",
    "\n",
    "## Monte Carlo generation of 3 Exponential(1) rv's"
   ]
  },
  {
   "cell_type": "code",
   "execution_count": 4,
   "metadata": {
    "ExecuteTime": {
     "end_time": "2017-12-06T02:00:30.139819Z",
     "start_time": "2017-12-06T02:00:29.674Z"
    }
   },
   "outputs": [
    {
     "data": {
      "text/html": [
       "3.01619009853036"
      ],
      "text/latex": [
       "3.01619009853036"
      ],
      "text/markdown": [
       "3.01619009853036"
      ],
      "text/plain": [
       "[1] 3.01619"
      ]
     },
     "metadata": {},
     "output_type": "display_data"
    },
    {
     "data": {
      "text/html": [
       "1.74397281143978"
      ],
      "text/latex": [
       "1.74397281143978"
      ],
      "text/markdown": [
       "1.74397281143978"
      ],
      "text/plain": [
       "[1] 1.743973"
      ]
     },
     "metadata": {},
     "output_type": "display_data"
    },
    {
     "data": {
      "text/html": [
       "0.871833333333333"
      ],
      "text/latex": [
       "0.871833333333333"
      ],
      "text/markdown": [
       "0.871833333333333"
      ],
      "text/plain": [
       "[1] 0.8718333"
      ]
     },
     "metadata": {},
     "output_type": "display_data"
    },
    {
     "data": {
      "text/html": [
       "<ol>\n",
       "\t<li>NULL</li>\n",
       "\t<li>NULL</li>\n",
       "\t<li>NULL</li>\n",
       "\t<li>NULL</li>\n",
       "\t<li>NULL</li>\n",
       "\t<li>NULL</li>\n",
       "\t<li>NULL</li>\n",
       "</ol>\n"
      ],
      "text/latex": [
       "\\begin{enumerate}\n",
       "\\item NULL\n",
       "\\item NULL\n",
       "\\item NULL\n",
       "\\item NULL\n",
       "\\item NULL\n",
       "\\item NULL\n",
       "\\item NULL\n",
       "\\end{enumerate}\n"
      ],
      "text/markdown": [
       "1. NULL\n",
       "2. NULL\n",
       "3. NULL\n",
       "4. NULL\n",
       "5. NULL\n",
       "6. NULL\n",
       "7. NULL\n",
       "\n",
       "\n"
      ],
      "text/plain": [
       "[[1]]\n",
       "NULL\n",
       "\n",
       "[[2]]\n",
       "NULL\n",
       "\n",
       "[[3]]\n",
       "NULL\n",
       "\n",
       "[[4]]\n",
       "NULL\n",
       "\n",
       "[[5]]\n",
       "NULL\n",
       "\n",
       "[[6]]\n",
       "NULL\n",
       "\n",
       "[[7]]\n",
       "NULL\n"
      ]
     },
     "metadata": {},
     "output_type": "display_data"
    },
    {
     "data": {
      "text/html": [
       "<strong>png:</strong> 2"
      ],
      "text/latex": [
       "\\textbf{png:} 2"
      ],
      "text/markdown": [
       "**png:** 2"
      ],
      "text/plain": [
       "png \n",
       "  2 "
      ]
     },
     "metadata": {},
     "output_type": "display_data"
    }
   ],
   "source": [
    "empirical = replicate(6000, sum(rexp(n = 3)))\n",
    "\n",
    "mean(empirical)\n",
    "\n",
    "sd(empirical)\n",
    "\n",
    "sum(empirical <= 5)/length(empirical)\n",
    "\n",
    "rates = c(seq(0.1, 1, by = 0.1), seq(2, 7, by = 1))\n",
    "\n",
    "samples = lapply(rates, function(r) {\n",
    "             replicate(6000, sum(rexp(n = 3, rate = r))) })\n",
    "\n",
    "\n",
    "pdf(\"BA_MCexample.pdf\", width = 8, height = 5)\n",
    "par(mar = c(2,4,1,1))\n",
    "plot(0, 0, xlim = c(-0.1, 10), ylim = c(0, 1), pch = \".\",\n",
    "     xlab=\"\", ylab=\"Cumulative Distribution\")\n",
    "xx = seq(-0.1, 20, by = 0.05)\n",
    "\n",
    "invisible(lapply(samples[-(19:20)], function(s) {\n",
    "  Fn = ecdf(s)                                         # empirical CDF function\n",
    "  ptile = Fn(xx)                                       # apply empirical cdf to x values\n",
    "  points(x = xx, y = ptile, type = \"l\")\n",
    "}))\n",
    "\n",
    "labs = c(1, 2, 3, 6, 10, 11, 16)\n",
    "xs = c(8,8,8,6, 4, 2, 0.75)\n",
    "poss = c(3,3,3, 2, 2, 2,2)\n",
    "mapply(function(lab, s, x, r, p) \n",
    "  {\n",
    "  Fn = ecdf(s)\n",
    "  text(x = x, y = Fn(x), labels = r, pos = p, cex = 0.8)                  #location of the labels; note having to compute this\n",
    "}, lab = labs, s = samples[labs], x = xs, r = rates[labs], p = poss)\n",
    "\n",
    "dev.off()\n"
   ]
  },
  {
   "cell_type": "markdown",
   "metadata": {},
   "source": [
    "## Exploring the random process\n",
    "- Study figure 7.1: a random branching process\n",
    "<hr>\n",
    "Algorithm:\n",
    "- a job generates jobs (exponentially) at rate lambda\n",
    "- a job's lifetime is exponential(kappa)\n",
    "- a job waits until its parent finishes before starting\n",
    "- a job may spawn jobs before or while its running, but not after it's finished"
   ]
  },
  {
   "cell_type": "code",
   "execution_count": 5,
   "metadata": {
    "ExecuteTime": {
     "end_time": "2017-12-06T02:00:30.309819Z",
     "start_time": "2017-12-06T02:00:30.222Z"
    }
   },
   "outputs": [
    {
     "data": {
      "text/html": [
       "8.38445019555799"
      ],
      "text/latex": [
       "8.38445019555799"
      ],
      "text/markdown": [
       "8.38445019555799"
      ],
      "text/plain": [
       "[1] 8.38445"
      ]
     },
     "metadata": {},
     "output_type": "display_data"
    },
    {
     "data": {
      "text/html": [
       "1.4701287652457"
      ],
      "text/latex": [
       "1.4701287652457"
      ],
      "text/markdown": [
       "1.4701287652457"
      ],
      "text/plain": [
       "[1] 1.470129"
      ]
     },
     "metadata": {},
     "output_type": "display_data"
    },
    {
     "data": {
      "text/html": [
       "<ol class=list-inline>\n",
       "\t<li>1.4701287652457</li>\n",
       "\t<li>4.08410448564177</li>\n",
       "</ol>\n"
      ],
      "text/latex": [
       "\\begin{enumerate*}\n",
       "\\item 1.4701287652457\n",
       "\\item 4.08410448564177\n",
       "\\end{enumerate*}\n"
      ],
      "text/markdown": [
       "1. 1.4701287652457\n",
       "2. 4.08410448564177\n",
       "\n",
       "\n"
      ],
      "text/plain": [
       "[1] 1.470129 4.084104"
      ]
     },
     "metadata": {},
     "output_type": "display_data"
    },
    {
     "data": {
      "text/html": [
       "<ol class=list-inline>\n",
       "\t<li>1.4701287652457</li>\n",
       "\t<li>4.08410448564177</li>\n",
       "\t<li>2.05214989176931</li>\n",
       "</ol>\n"
      ],
      "text/latex": [
       "\\begin{enumerate*}\n",
       "\\item 1.4701287652457\n",
       "\\item 4.08410448564177\n",
       "\\item 2.05214989176931\n",
       "\\end{enumerate*}\n"
      ],
      "text/markdown": [
       "1. 1.4701287652457\n",
       "2. 4.08410448564177\n",
       "3. 2.05214989176931\n",
       "\n",
       "\n"
      ],
      "text/plain": [
       "[1] 1.470129 4.084104 2.052150"
      ]
     },
     "metadata": {},
     "output_type": "display_data"
    },
    {
     "data": {
      "text/html": [
       "<ol class=list-inline>\n",
       "\t<li>1.4701287652457</li>\n",
       "\t<li>5.55423325088747</li>\n",
       "\t<li>7.60638314265678</li>\n",
       "</ol>\n"
      ],
      "text/latex": [
       "\\begin{enumerate*}\n",
       "\\item 1.4701287652457\n",
       "\\item 5.55423325088747\n",
       "\\item 7.60638314265678\n",
       "\\end{enumerate*}\n"
      ],
      "text/markdown": [
       "1. 1.4701287652457\n",
       "2. 5.55423325088747\n",
       "3. 7.60638314265678\n",
       "\n",
       "\n"
      ],
      "text/plain": [
       "[1] 1.470129 5.554233 7.606383"
      ]
     },
     "metadata": {},
     "output_type": "display_data"
    },
    {
     "data": {
      "text/html": [
       "<ol class=list-inline>\n",
       "\t<li>1.4701287652457</li>\n",
       "\t<li>5.55423325088747</li>\n",
       "\t<li>7.60638314265678</li>\n",
       "\t<li>10.8678616857703</li>\n",
       "</ol>\n"
      ],
      "text/latex": [
       "\\begin{enumerate*}\n",
       "\\item 1.4701287652457\n",
       "\\item 5.55423325088747\n",
       "\\item 7.60638314265678\n",
       "\\item 10.8678616857703\n",
       "\\end{enumerate*}\n"
      ],
      "text/markdown": [
       "1. 1.4701287652457\n",
       "2. 5.55423325088747\n",
       "3. 7.60638314265678\n",
       "4. 10.8678616857703\n",
       "\n",
       "\n"
      ],
      "text/plain": [
       "[1]  1.470129  5.554233  7.606383 10.867862"
      ]
     },
     "metadata": {},
     "output_type": "display_data"
    },
    {
     "data": {
      "text/html": [
       "<ol class=list-inline>\n",
       "\t<li>9.877186937148</li>\n",
       "\t<li>9.20489129723571</li>\n",
       "\t<li>24.5517850716724</li>\n",
       "</ol>\n"
      ],
      "text/latex": [
       "\\begin{enumerate*}\n",
       "\\item 9.877186937148\n",
       "\\item 9.20489129723571\n",
       "\\item 24.5517850716724\n",
       "\\end{enumerate*}\n"
      ],
      "text/markdown": [
       "1. 9.877186937148\n",
       "2. 9.20489129723571\n",
       "3. 24.5517850716724\n",
       "\n",
       "\n"
      ],
      "text/plain": [
       "[1]  9.877187  9.204891 24.551785"
      ]
     },
     "metadata": {},
     "output_type": "display_data"
    },
    {
     "data": {
      "text/html": [
       "6.2335433826215"
      ],
      "text/latex": [
       "6.2335433826215"
      ],
      "text/markdown": [
       "6.2335433826215"
      ],
      "text/plain": [
       "[1] 6.233543"
      ]
     },
     "metadata": {},
     "output_type": "display_data"
    },
    {
     "data": {
      "text/html": [
       "12.556849225485"
      ],
      "text/latex": [
       "12.556849225485"
      ],
      "text/markdown": [
       "12.556849225485"
      ],
      "text/plain": [
       "[1] 12.55685"
      ]
     },
     "metadata": {},
     "output_type": "display_data"
    }
   ],
   "source": [
    "seedx = 116201412\n",
    "set.seed(seedx)\n",
    "# Note: we have to run these in order!\n",
    "\n",
    "\n",
    "kappa = 0.3\n",
    "# first job's lifetime\n",
    "d0 = rexp(1, rate = kappa)\n",
    "d0\n",
    "\n",
    "lambda = 0.5\n",
    "# first birth time\n",
    "birth1 = rexp(1, rate = lambda)\n",
    "birth1\n",
    "\n",
    "# simulate next birth time\n",
    "itime = c(birth1, rexp(1, rate = lambda))\n",
    "itime\n",
    "\n",
    "# simulate next one\n",
    "itime = c(itime, rexp(1, rate = lambda))\n",
    "itime\n",
    "\n",
    "cumsum(itime)\n",
    "\n",
    "itime = c(itime, rexp(1, rate = lambda))\n",
    "btime = cumsum(itime)\n",
    "btime # birth times\n",
    "\n",
    "btime = btime[ btime < d0 ]      # only two were generated during first job's lifetime (< d0)\n",
    "\n",
    "dtime = d0 + rexp(n = length(btime), rate = kappa) \n",
    "dtime  # birth times plus exp(kappa): death times: all start (in parallel after d0 finishes)\n",
    "\n",
    "# these can potentially generate offspring as well: \"birth and assassination process\"\n",
    "btime[1] + rexp(1, rate = lambda) # 6.233543\n",
    "\n",
    "dtime[1] + rexp(1, rate = kappa)  # 12.55685"
   ]
  },
  {
   "cell_type": "code",
   "execution_count": 6,
   "metadata": {
    "ExecuteTime": {
     "end_time": "2017-12-06T02:00:30.699819Z",
     "start_time": "2017-12-06T02:00:30.234Z"
    }
   },
   "outputs": [
    {
     "data": {
      "text/html": [
       "<table>\n",
       "<thead><tr><th scope=col>births</th><th scope=col>completes</th></tr></thead>\n",
       "<tbody>\n",
       "</tbody>\n",
       "</table>\n"
      ],
      "text/latex": [
       "\\begin{tabular}{r|ll}\n",
       " births & completes\\\\\n",
       "\\hline\n",
       "\\end{tabular}\n"
      ],
      "text/markdown": [
       "\n",
       "births | completes | \n",
       "||\n",
       "\n",
       "\n"
      ],
      "text/plain": [
       "     births completes"
      ]
     },
     "metadata": {},
     "output_type": "display_data"
    },
    {
     "data": {
      "text/html": [
       "<table>\n",
       "<thead><tr><th scope=col>births</th><th scope=col>completes</th></tr></thead>\n",
       "<tbody>\n",
       "\t<tr><td>2.470129</td><td>9.42025 </td></tr>\n",
       "</tbody>\n",
       "</table>\n"
      ],
      "text/latex": [
       "\\begin{tabular}{r|ll}\n",
       " births & completes\\\\\n",
       "\\hline\n",
       "\t 2.470129 & 9.42025 \\\\\n",
       "\\end{tabular}\n"
      ],
      "text/markdown": [
       "\n",
       "births | completes | \n",
       "|---|\n",
       "| 2.470129 | 9.42025  | \n",
       "\n",
       "\n"
      ],
      "text/plain": [
       "  births   completes\n",
       "1 2.470129 9.42025  "
      ]
     },
     "metadata": {},
     "output_type": "display_data"
    },
    {
     "data": {
      "text/html": [
       "<table>\n",
       "<thead><tr><th scope=col>births</th><th scope=col>completes</th></tr></thead>\n",
       "<tbody>\n",
       "\t<tr><td>4.261479 </td><td>13.939024</td></tr>\n",
       "\t<tr><td>5.157121 </td><td> 8.679662</td></tr>\n",
       "\t<tr><td>5.649385 </td><td> 8.624457</td></tr>\n",
       "</tbody>\n",
       "</table>\n"
      ],
      "text/latex": [
       "\\begin{tabular}{r|ll}\n",
       " births & completes\\\\\n",
       "\\hline\n",
       "\t 4.261479  & 13.939024\\\\\n",
       "\t 5.157121  &  8.679662\\\\\n",
       "\t 5.649385  &  8.624457\\\\\n",
       "\\end{tabular}\n"
      ],
      "text/markdown": [
       "\n",
       "births | completes | \n",
       "|---|---|---|\n",
       "| 4.261479  | 13.939024 | \n",
       "| 5.157121  |  8.679662 | \n",
       "| 5.649385  |  8.624457 | \n",
       "\n",
       "\n"
      ],
      "text/plain": [
       "  births   completes\n",
       "1 4.261479 13.939024\n",
       "2 5.157121  8.679662\n",
       "3 5.649385  8.624457"
      ]
     },
     "metadata": {},
     "output_type": "display_data"
    },
    {
     "data": {
      "text/html": [
       "2.503"
      ],
      "text/latex": [
       "2.503"
      ],
      "text/markdown": [
       "2.503"
      ],
      "text/plain": [
       "[1] 2.503"
      ]
     },
     "metadata": {},
     "output_type": "display_data"
    },
    {
     "data": {
      "image/png": "[encoded data removed]",
      "text/plain": [
       "plot without title"
      ]
     },
     "metadata": {},
     "output_type": "display_data"
    }
   ],
   "source": [
    "# note defining signature of function great way to get started!\n",
    "genKids = function(bTime, cTime, lambda = 0.5, kappa = 0.3) {    # four parameters in function definition \n",
    "         # Parent job born at bTime and completes at cTime\n",
    "    \n",
    "         # Birth time of first child\n",
    "    mostRecent = rexp(1, rate = lambda) + bTime\n",
    "    kidBirths = numeric()\n",
    "\n",
    "    while (mostRecent < cTime) {\n",
    "      kidBirths = c(kidBirths, mostRecent)\n",
    "      mostRecent = mostRecent  + rexp(1, rate = lambda) \n",
    "    }\n",
    "    \n",
    "         # generate lifetimes for all offspring\n",
    "    numKids = length(kidBirths)\n",
    "    runtime = rexp(numKids, rate = kappa)\n",
    "    kidCompletes = rep(cTime, numKids) + runtime\n",
    "    \n",
    "    data.frame(births = kidBirths, \n",
    "               completes = kidCompletes)\n",
    "}\n",
    "\n",
    "set.seed(seedx)   # reset the seed in case we lost track\n",
    "\n",
    "genKids(1, 6)\n",
    "\n",
    "genKids(1, 6)\n",
    "\n",
    "genKids(1, 6)    # up arrow + return to get a feel for how these are \"distributed\"\n",
    "\n",
    "# we can this recursively:\n",
    "genBirth = function(currentTime, cTime, \n",
    "                    births = numeric(), lambda = 0.5) {\n",
    "          \n",
    "         # Generate birth time of next job after currentTime\n",
    "    mostRecent = rexp(1, rate = lambda) + currentTime\n",
    "    \n",
    "    if (mostRecent > cTime)        # note here we \"discard\" generated data if it doesn't meet the condition\n",
    "      return(births)\n",
    "    else {\n",
    "      births = c(births, mostRecent)\n",
    "      genBirth(currentTime = mostRecent, cTime, births, lambda)     # recursive call\n",
    "    }\n",
    "  }\n",
    "\n",
    "# Effectively, the recursive call replaces the `while` loop\n",
    "# Deep CS concepts here of \"tail-recursion\" and convergence\n",
    "\n",
    "# gen kids recursively:\n",
    "genKidsR = function(bTime, cTime, lambda = 0.5, kappa = 0.3) {\n",
    "         # Parent job born at bTime and completes at cTime\n",
    "    \n",
    "    kidBirths = genBirth(bTime, cTime, lambda = lambda)\n",
    "    \n",
    "         # generate lifetimes for all offspring\n",
    "    numKids = length(kidBirths)\n",
    "    runtime = rexp(numKids, rate = kappa)\n",
    "    kidDeaths = rep(cTime, numKids) + runtime\n",
    "    \n",
    "    data.frame(births = kidBirths, \n",
    "               completes = kidDeaths)\n",
    "} \n",
    "\n",
    "set.seed(seedx)   # reset again\n",
    "\n",
    "numKids = replicate(1000, nrow(genKids(1, 6)))\n",
    "mean(numKids)\n",
    "\n",
    "eprobs = table(numKids)/length(numKids)\n",
    "probs = dpois(x = 0:max(numKids), lambda = 2.5)\n",
    "\n",
    "plot(eprobs, type = \"h\",\n",
    "     ylab = \"Proportion\", xlab = \"Number of offspring\")\n",
    "segments(x0 = 0.1 + 0:max(numKids), y0 = rep(0, max(numKids)), # nice plotting function: `segments`; goes along with type \"h\" + stagger by .1\n",
    "         y1 = probs, col=\"grey\", lwd = 2)"
   ]
  },
  {
   "cell_type": "code",
   "execution_count": 7,
   "metadata": {
    "ExecuteTime": {
     "end_time": "2017-12-06T02:00:30.739819Z",
     "start_time": "2017-12-06T02:00:30.242Z"
    }
   },
   "outputs": [
    {
     "data": {
      "text/html": [
       "<span style=white-space:pre-wrap>'P-value from Chi=  0.994380309542424'</span>"
      ],
      "text/latex": [
       "'P-value from Chi=  0.994380309542424'"
      ],
      "text/markdown": [
       "<span style=white-space:pre-wrap>'P-value from Chi=  0.994380309542424'</span>"
      ],
      "text/plain": [
       "[1] \"P-value from Chi=  0.994380309542424\""
      ]
     },
     "metadata": {},
     "output_type": "display_data"
    }
   ],
   "source": [
    "# pdf(\"numSimOffspring.pdf\", width = 8, height = 5)\n",
    "# oldPar = par(mar = c(4.1, 4.1, 1, 1))\n",
    "# \n",
    "# plot(eprobs, type = \"h\",\n",
    "#      ylab = \"Proportion\", xlab = \"Number of offspring\")\n",
    "# segments(x0 = 0.1 + 0:max(numKids), \n",
    "#          y0 = rep(0, max(numKids)), y1 = probs,\n",
    "#          col=\"grey\", lwd = 2)\n",
    "# \n",
    "# par(oldPar)\n",
    "# dev.off()\n",
    "\n",
    "# compute the observed proportions vs. theoretical ones\n",
    "obsCt = table(numKids)\n",
    "expCt = 1000* c(dpois(0:8, lambda = 2.5), \n",
    "                ppois(8, lower.tail = FALSE, lambda = 2.5))\n",
    "\n",
    "# Compute chi^2 statistic: recall! good for comparing frequencies in buckets\n",
    "stat = sum((obsCt - expCt)^2/expCt)\n",
    "paste('P-value from Chi= ', pchisq(stat, df = 9, lower.tail = FALSE))  # 0.9943803 # p-value\n",
    "\n",
    "\n",
    "\n",
    "# Rewrite above functionality returning a vector, so we can use vector comprehension next \n",
    "#(that is, applying a function across a vector)\n",
    "genKidsU =  function(bTime, cTime, lambda = 0.5, kappa = 0.3) {\n",
    "         # Generate the birth times and assassination times\n",
    "         # for the children of a job who is born at bTime \n",
    "         # and completed at cTime.\n",
    "    lambda = (cTime - bTime) * lambda\n",
    "    numKids = rpois(1, lambda = lambda)\n",
    "    kidBirths = sort(runif(numKids, min = bTime, max = cTime))\n",
    "    \n",
    "    # generate lifetimes for each offspring\n",
    "    runtime = rexp(numKids, rate = kappa)\n",
    "    kidDeaths = rep(cTime, numKids) + runtime\n",
    "    \n",
    "    return(data.frame(births = kidBirths, completes = kidDeaths))\n",
    "}"
   ]
  },
  {
   "cell_type": "markdown",
   "metadata": {},
   "source": [
    "## Profiling code performance"
   ]
  },
  {
   "cell_type": "code",
   "execution_count": 8,
   "metadata": {
    "ExecuteTime": {
     "end_time": "2017-12-06T02:00:35.017319Z",
     "start_time": "2017-12-06T02:00:30.866Z"
    }
   },
   "outputs": [
    {
     "data": {
      "text/plain": [
       "     user    system   elapsed \n",
       "0.7752809       NaN 0.7752809 "
      ]
     },
     "metadata": {},
     "output_type": "display_data"
    },
    {
     "data": {
      "text/plain": [
       "    user   system  elapsed \n",
       "1.268293      NaN 1.296296 "
      ]
     },
     "metadata": {},
     "output_type": "display_data"
    },
    {
     "data": {
      "text/html": [
       "<table>\n",
       "<thead><tr><th></th><th scope=col>self.time</th><th scope=col>self.pct</th><th scope=col>total.time</th><th scope=col>total.pct</th></tr></thead>\n",
       "<tbody>\n",
       "\t<tr><th scope=row>\"rexp\"</th><td>0.08  </td><td>30.77 </td><td>0.08  </td><td> 30.77</td></tr>\n",
       "\t<tr><th scope=row>\"c\"</th><td>0.06  </td><td>23.08 </td><td>0.06  </td><td> 23.08</td></tr>\n",
       "\t<tr><th scope=row>\"structure\"</th><td>0.04  </td><td>15.38 </td><td>0.04  </td><td> 15.38</td></tr>\n",
       "\t<tr><th scope=row>\"eval\"</th><td>0.02  </td><td> 7.69 </td><td>0.26  </td><td>100.00</td></tr>\n",
       "\t<tr><th scope=row>\"match.arg\"</th><td>0.02  </td><td> 7.69 </td><td>0.04  </td><td> 15.38</td></tr>\n",
       "\t<tr><th scope=row>\"is.factor\"</th><td>0.02  </td><td> 7.69 </td><td>0.02  </td><td>  7.69</td></tr>\n",
       "\t<tr><th scope=row>\"length\"</th><td>0.02  </td><td> 7.69 </td><td>0.02  </td><td>  7.69</td></tr>\n",
       "</tbody>\n",
       "</table>\n"
      ],
      "text/latex": [
       "\\begin{tabular}{r|llll}\n",
       "  & self.time & self.pct & total.time & total.pct\\\\\n",
       "\\hline\n",
       "\t\"rexp\" & 0.08   & 30.77  & 0.08   &  30.77\\\\\n",
       "\t\"c\" & 0.06   & 23.08  & 0.06   &  23.08\\\\\n",
       "\t\"structure\" & 0.04   & 15.38  & 0.04   &  15.38\\\\\n",
       "\t\"eval\" & 0.02   &  7.69  & 0.26   & 100.00\\\\\n",
       "\t\"match.arg\" & 0.02   &  7.69  & 0.04   &  15.38\\\\\n",
       "\t\"is.factor\" & 0.02   &  7.69  & 0.02   &   7.69\\\\\n",
       "\t\"length\" & 0.02   &  7.69  & 0.02   &   7.69\\\\\n",
       "\\end{tabular}\n"
      ],
      "text/markdown": [
       "\n",
       "| <!--/--> | self.time | self.pct | total.time | total.pct | \n",
       "|---|---|---|---|---|---|---|\n",
       "| \"rexp\" | 0.08   | 30.77  | 0.08   |  30.77 | \n",
       "| \"c\" | 0.06   | 23.08  | 0.06   |  23.08 | \n",
       "| \"structure\" | 0.04   | 15.38  | 0.04   |  15.38 | \n",
       "| \"eval\" | 0.02   |  7.69  | 0.26   | 100.00 | \n",
       "| \"match.arg\" | 0.02   |  7.69  | 0.04   |  15.38 | \n",
       "| \"is.factor\" | 0.02   |  7.69  | 0.02   |   7.69 | \n",
       "| \"length\" | 0.02   |  7.69  | 0.02   |   7.69 | \n",
       "\n",
       "\n"
      ],
      "text/plain": [
       "            self.time self.pct total.time total.pct\n",
       "\"rexp\"      0.08      30.77    0.08        30.77   \n",
       "\"c\"         0.06      23.08    0.06        23.08   \n",
       "\"structure\" 0.04      15.38    0.04        15.38   \n",
       "\"eval\"      0.02       7.69    0.26       100.00   \n",
       "\"match.arg\" 0.02       7.69    0.04        15.38   \n",
       "\"is.factor\" 0.02       7.69    0.02         7.69   \n",
       "\"length\"    0.02       7.69    0.02         7.69   "
      ]
     },
     "metadata": {},
     "output_type": "display_data"
    },
    {
     "data": {
      "text/html": [
       "<table>\n",
       "<thead><tr><th></th><th scope=col>self.time</th><th scope=col>self.pct</th><th scope=col>total.time</th><th scope=col>total.pct</th></tr></thead>\n",
       "<tbody>\n",
       "\t<tr><th scope=row>\"structure\"</th><td>0.04  </td><td>18.18 </td><td>0.04  </td><td> 18.18</td></tr>\n",
       "\t<tr><th scope=row>\"lapply\"</th><td>0.02  </td><td> 9.09 </td><td>0.22  </td><td>100.00</td></tr>\n",
       "\t<tr><th scope=row>\"as.data.frame\"</th><td>0.02  </td><td> 9.09 </td><td>0.10  </td><td> 45.45</td></tr>\n",
       "\t<tr><th scope=row>\"order\"</th><td>0.02  </td><td> 9.09 </td><td>0.06  </td><td> 27.27</td></tr>\n",
       "\t<tr><th scope=row>\"sort.int\"</th><td>0.02  </td><td> 9.09 </td><td>0.06  </td><td> 27.27</td></tr>\n",
       "\t<tr><th scope=row>\"deparse\"</th><td>0.02  </td><td> 9.09 </td><td>0.04  </td><td> 18.18</td></tr>\n",
       "\t<tr><th scope=row>\"mode\"</th><td>0.02  </td><td> 9.09 </td><td>0.04  </td><td> 18.18</td></tr>\n",
       "\t<tr><th scope=row>\"length\"</th><td>0.02  </td><td> 9.09 </td><td>0.02  </td><td>  9.09</td></tr>\n",
       "\t<tr><th scope=row>\"match.arg\"</th><td>0.02  </td><td> 9.09 </td><td>0.02  </td><td>  9.09</td></tr>\n",
       "\t<tr><th scope=row>\"rexp\"</th><td>0.02  </td><td> 9.09 </td><td>0.02  </td><td>  9.09</td></tr>\n",
       "</tbody>\n",
       "</table>\n"
      ],
      "text/latex": [
       "\\begin{tabular}{r|llll}\n",
       "  & self.time & self.pct & total.time & total.pct\\\\\n",
       "\\hline\n",
       "\t\"structure\" & 0.04   & 18.18  & 0.04   &  18.18\\\\\n",
       "\t\"lapply\" & 0.02   &  9.09  & 0.22   & 100.00\\\\\n",
       "\t\"as.data.frame\" & 0.02   &  9.09  & 0.10   &  45.45\\\\\n",
       "\t\"order\" & 0.02   &  9.09  & 0.06   &  27.27\\\\\n",
       "\t\"sort.int\" & 0.02   &  9.09  & 0.06   &  27.27\\\\\n",
       "\t\"deparse\" & 0.02   &  9.09  & 0.04   &  18.18\\\\\n",
       "\t\"mode\" & 0.02   &  9.09  & 0.04   &  18.18\\\\\n",
       "\t\"length\" & 0.02   &  9.09  & 0.02   &   9.09\\\\\n",
       "\t\"match.arg\" & 0.02   &  9.09  & 0.02   &   9.09\\\\\n",
       "\t\"rexp\" & 0.02   &  9.09  & 0.02   &   9.09\\\\\n",
       "\\end{tabular}\n"
      ],
      "text/markdown": [
       "\n",
       "| <!--/--> | self.time | self.pct | total.time | total.pct | \n",
       "|---|---|---|---|---|---|---|---|---|---|\n",
       "| \"structure\" | 0.04   | 18.18  | 0.04   |  18.18 | \n",
       "| \"lapply\" | 0.02   |  9.09  | 0.22   | 100.00 | \n",
       "| \"as.data.frame\" | 0.02   |  9.09  | 0.10   |  45.45 | \n",
       "| \"order\" | 0.02   |  9.09  | 0.06   |  27.27 | \n",
       "| \"sort.int\" | 0.02   |  9.09  | 0.06   |  27.27 | \n",
       "| \"deparse\" | 0.02   |  9.09  | 0.04   |  18.18 | \n",
       "| \"mode\" | 0.02   |  9.09  | 0.04   |  18.18 | \n",
       "| \"length\" | 0.02   |  9.09  | 0.02   |   9.09 | \n",
       "| \"match.arg\" | 0.02   |  9.09  | 0.02   |   9.09 | \n",
       "| \"rexp\" | 0.02   |  9.09  | 0.02   |   9.09 | \n",
       "\n",
       "\n"
      ],
      "text/plain": [
       "                self.time self.pct total.time total.pct\n",
       "\"structure\"     0.04      18.18    0.04        18.18   \n",
       "\"lapply\"        0.02       9.09    0.22       100.00   \n",
       "\"as.data.frame\" 0.02       9.09    0.10        45.45   \n",
       "\"order\"         0.02       9.09    0.06        27.27   \n",
       "\"sort.int\"      0.02       9.09    0.06        27.27   \n",
       "\"deparse\"       0.02       9.09    0.04        18.18   \n",
       "\"mode\"          0.02       9.09    0.04        18.18   \n",
       "\"length\"        0.02       9.09    0.02         9.09   \n",
       "\"match.arg\"     0.02       9.09    0.02         9.09   \n",
       "\"rexp\"          0.02       9.09    0.02         9.09   "
      ]
     },
     "metadata": {},
     "output_type": "display_data"
    }
   ],
   "source": [
    "seedx = 116201412\n",
    "set.seed(seedx)\n",
    "\n",
    "time1 = system.time( replicate(4000, genKids(1, cTime = 9)) )\n",
    "time2 = system.time( replicate(4000, genKidsU(1, cTime = 9)) )\n",
    "\n",
    "time1/time2\n",
    "\n",
    "time1 = system.time( replicate(4000, genKids(1, cTime = 100)) )\n",
    "time2 = system.time( replicate(4000, genKidsU(1, cTime = 100)) )\n",
    "time1/time2\n",
    "\n",
    "set.seed(seedx)\n",
    "Rprof(\"profGenKids1.out\")\n",
    "invisible( replicate(1000, genKids(1, cTime = 100)) )\n",
    "Rprof(NULL)\n",
    "\n",
    "summaryRprof(\"profGenKids1.out\")$by.self\n",
    "\n",
    "set.seed(seedx)\n",
    "Rprof(\"profGenKidsU.out\")\n",
    "invisible( replicate(1000, genKidsU(1, cTime = 100)) )\n",
    "Rprof(NULL)\n",
    "summaryRprof(\"profGenKidsU.out\")$by.self"
   ]
  },
  {
   "cell_type": "code",
   "execution_count": 9,
   "metadata": {
    "ExecuteTime": {
     "end_time": "2017-12-06T02:00:35.127319Z",
     "start_time": "2017-12-06T02:00:30.877Z"
    }
   },
   "outputs": [
    {
     "data": {
      "text/html": [
       "<ol>\n",
       "\t<li><table>\n",
       "<thead><tr><th scope=col>births</th><th scope=col>completes</th></tr></thead>\n",
       "<tbody>\n",
       "\t<tr><td>2.936936</td><td>8.919043</td></tr>\n",
       "</tbody>\n",
       "</table>\n",
       "</li>\n",
       "\t<li><table>\n",
       "<thead><tr><th scope=col>births</th><th scope=col>completes</th></tr></thead>\n",
       "<tbody>\n",
       "\t<tr><td>2.170295</td><td>10.31738</td></tr>\n",
       "\t<tr><td>3.195751</td><td>15.17299</td></tr>\n",
       "\t<tr><td>8.713876</td><td>16.03113</td></tr>\n",
       "</tbody>\n",
       "</table>\n",
       "</li>\n",
       "\t<li><table>\n",
       "<thead><tr><th scope=col>births</th><th scope=col>completes</th></tr></thead>\n",
       "<tbody>\n",
       "\t<tr><td> 3.172955</td><td>16.76033 </td></tr>\n",
       "\t<tr><td> 5.496738</td><td>15.50458 </td></tr>\n",
       "\t<tr><td> 9.779638</td><td>20.46424 </td></tr>\n",
       "\t<tr><td>10.325540</td><td>24.80465 </td></tr>\n",
       "</tbody>\n",
       "</table>\n",
       "</li>\n",
       "</ol>\n"
      ],
      "text/latex": [
       "\\begin{enumerate}\n",
       "\\item \\begin{tabular}{r|ll}\n",
       " births & completes\\\\\n",
       "\\hline\n",
       "\t 2.936936 & 8.919043\\\\\n",
       "\\end{tabular}\n",
       "\n",
       "\\item \\begin{tabular}{r|ll}\n",
       " births & completes\\\\\n",
       "\\hline\n",
       "\t 2.170295 & 10.31738\\\\\n",
       "\t 3.195751 & 15.17299\\\\\n",
       "\t 8.713876 & 16.03113\\\\\n",
       "\\end{tabular}\n",
       "\n",
       "\\item \\begin{tabular}{r|ll}\n",
       " births & completes\\\\\n",
       "\\hline\n",
       "\t  3.172955 & 16.76033 \\\\\n",
       "\t  5.496738 & 15.50458 \\\\\n",
       "\t  9.779638 & 20.46424 \\\\\n",
       "\t 10.325540 & 24.80465 \\\\\n",
       "\\end{tabular}\n",
       "\n",
       "\\end{enumerate}\n"
      ],
      "text/markdown": [
       "1. \n",
       "births | completes | \n",
       "|---|\n",
       "| 2.936936 | 8.919043 | \n",
       "\n",
       "\n",
       "\n",
       "2. \n",
       "births | completes | \n",
       "|---|---|---|\n",
       "| 2.170295 | 10.31738 | \n",
       "| 3.195751 | 15.17299 | \n",
       "| 8.713876 | 16.03113 | \n",
       "\n",
       "\n",
       "\n",
       "3. \n",
       "births | completes | \n",
       "|---|---|---|---|\n",
       "|  3.172955 | 16.76033  | \n",
       "|  5.496738 | 15.50458  | \n",
       "|  9.779638 | 20.46424  | \n",
       "| 10.325540 | 24.80465  | \n",
       "\n",
       "\n",
       "\n",
       "\n",
       "\n"
      ],
      "text/plain": [
       "[[1]]\n",
       "    births completes\n",
       "1 2.936936  8.919043\n",
       "\n",
       "[[2]]\n",
       "    births completes\n",
       "1 2.170295  10.31738\n",
       "2 3.195751  15.17299\n",
       "3 8.713876  16.03113\n",
       "\n",
       "[[3]]\n",
       "     births completes\n",
       "1  3.172955  16.76033\n",
       "2  5.496738  15.50458\n",
       "3  9.779638  20.46424\n",
       "4 10.325540  24.80465\n"
      ]
     },
     "metadata": {},
     "output_type": "display_data"
    },
    {
     "data": {
      "text/html": [
       "<ol class=list-inline>\n",
       "\t<li>2</li>\n",
       "\t<li>4</li>\n",
       "\t<li>6</li>\n",
       "</ol>\n"
      ],
      "text/latex": [
       "\\begin{enumerate*}\n",
       "\\item 2\n",
       "\\item 4\n",
       "\\item 6\n",
       "\\end{enumerate*}\n"
      ],
      "text/markdown": [
       "1. 2\n",
       "2. 4\n",
       "3. 6\n",
       "\n",
       "\n"
      ],
      "text/plain": [
       "[1] 2 4 6"
      ]
     },
     "metadata": {},
     "output_type": "display_data"
    },
    {
     "data": {
      "text/html": [
       "TRUE"
      ],
      "text/latex": [
       "TRUE"
      ],
      "text/markdown": [
       "TRUE"
      ],
      "text/plain": [
       "[1] TRUE"
      ]
     },
     "metadata": {},
     "output_type": "display_data"
    },
    {
     "data": {
      "text/html": [
       "<table>\n",
       "<thead><tr><th scope=col>parentID</th><th scope=col>kidID</th><th scope=col>births</th><th scope=col>completes</th></tr></thead>\n",
       "<tbody>\n",
       "\t<tr><td>a        </td><td>1        </td><td> 2.936936</td><td> 8.919043</td></tr>\n",
       "\t<tr><td>b        </td><td>2        </td><td> 2.170295</td><td>10.317380</td></tr>\n",
       "\t<tr><td>b        </td><td>3        </td><td> 3.195751</td><td>15.172991</td></tr>\n",
       "\t<tr><td>b        </td><td>4        </td><td> 8.713876</td><td>16.031133</td></tr>\n",
       "\t<tr><td>c        </td><td>5        </td><td> 3.172955</td><td>16.760326</td></tr>\n",
       "\t<tr><td>c        </td><td>6        </td><td> 5.496738</td><td>15.504584</td></tr>\n",
       "\t<tr><td>c        </td><td>7        </td><td> 9.779638</td><td>20.464240</td></tr>\n",
       "\t<tr><td>c        </td><td>8        </td><td>10.325540</td><td>24.804648</td></tr>\n",
       "</tbody>\n",
       "</table>\n"
      ],
      "text/latex": [
       "\\begin{tabular}{r|llll}\n",
       " parentID & kidID & births & completes\\\\\n",
       "\\hline\n",
       "\t a         & 1         &  2.936936 &  8.919043\\\\\n",
       "\t b         & 2         &  2.170295 & 10.317380\\\\\n",
       "\t b         & 3         &  3.195751 & 15.172991\\\\\n",
       "\t b         & 4         &  8.713876 & 16.031133\\\\\n",
       "\t c         & 5         &  3.172955 & 16.760326\\\\\n",
       "\t c         & 6         &  5.496738 & 15.504584\\\\\n",
       "\t c         & 7         &  9.779638 & 20.464240\\\\\n",
       "\t c         & 8         & 10.325540 & 24.804648\\\\\n",
       "\\end{tabular}\n"
      ],
      "text/markdown": [
       "\n",
       "parentID | kidID | births | completes | \n",
       "|---|---|---|---|---|---|---|---|\n",
       "| a         | 1         |  2.936936 |  8.919043 | \n",
       "| b         | 2         |  2.170295 | 10.317380 | \n",
       "| b         | 3         |  3.195751 | 15.172991 | \n",
       "| b         | 4         |  8.713876 | 16.031133 | \n",
       "| c         | 5         |  3.172955 | 16.760326 | \n",
       "| c         | 6         |  5.496738 | 15.504584 | \n",
       "| c         | 7         |  9.779638 | 20.464240 | \n",
       "| c         | 8         | 10.325540 | 24.804648 | \n",
       "\n",
       "\n"
      ],
      "text/plain": [
       "  parentID kidID births    completes\n",
       "1 a        1      2.936936  8.919043\n",
       "2 b        2      2.170295 10.317380\n",
       "3 b        3      3.195751 15.172991\n",
       "4 b        4      8.713876 16.031133\n",
       "5 c        5      3.172955 16.760326\n",
       "6 c        6      5.496738 15.504584\n",
       "7 c        7      9.779638 20.464240\n",
       "8 c        8     10.325540 24.804648"
      ]
     },
     "metadata": {},
     "output_type": "display_data"
    }
   ],
   "source": [
    "# apply genKidsU across a vector using `mapply`\n",
    "genKidsV = function(bTimes, cTimes, lambda = 0.5, kappa = 0.3) {\n",
    "       # bTimes & cTimes - vector of birth and completion times\n",
    "\n",
    "       # Determine how many children each job has\n",
    "  parentAge = cTimes - bTimes\n",
    "  numKids = rpois(n = length(parentAge), \n",
    "                  lambda = lambda*parentAge)\n",
    "  \n",
    "       # Determine the birth and completion times of the children\n",
    "  mapply(function(n, min, max) {\n",
    "            births = sort(runif(n, min, max))\n",
    "            runtimes = rexp(n, rate = kappa)\n",
    "            completes = rep(max, n) + runtimes\n",
    "            data.frame(births, completes)\n",
    "         },\n",
    "         n = numKids , min = bTimes, max = cTimes,\n",
    "         SIMPLIFY = FALSE)\n",
    "}\n",
    "\n",
    "# check the above work with a unit test 7.6\n",
    "bTimes1 = 1:3\n",
    "cTimes1 = c(3, 10, 15)\n",
    "\n",
    "seed1 = 12062013\n",
    "set.seed(seed1)\n",
    "\n",
    "kids = genKidsV(bTimes1, cTimes1)\n",
    "kids\n",
    "\n",
    "\n",
    "kids2 = genKidsV(bTimes1, cTimes1)\n",
    "sapply(kids2, nrow)\n",
    "\n",
    "set.seed(seed1)\n",
    "kids3 = genKidsV(bTimes = bTimes1, cTimes = cTimes1)\n",
    "identical(kids, kids3)\n",
    "\n",
    "\n",
    "# 7.7 Generate kids vectorized returning the ids of the kids and parents\n",
    "genKidsV = function(bTimes, cTimes, parentID, lambda = 0.5, kappa = 0.3) {\n",
    "       # Determine how many children each job has\n",
    "  parentAge = cTimes - bTimes\n",
    "  numKids = rpois(n = length(parentAge), lambda = lambda * parentAge)\n",
    "  \n",
    "  if (sum(numKids) == 0) return(NULL)\n",
    "  \n",
    "       # Determine the birth times of the children  \n",
    "  kidStats = \n",
    "    mapply(function(n, min, max) {\n",
    "      births = sort(runif(n, min, max))\n",
    "      runtimes = rexp(n, rate = kappa)\n",
    "      completes = rep(max, n) + runtimes\n",
    "      data.frame(births, completes)\n",
    "    },\n",
    "           n = numKids , min = bTimes, max = cTimes, \n",
    "           SIMPLIFY = FALSE)\n",
    "  \n",
    " \n",
    "  return(data.frame(parentID = rep(parentID, numKids),\n",
    "                    kidID = 1:sum(numKids), \n",
    "                    births = unlist(lapply(kidStats, \"[[\", \"births\")), \n",
    "                    completes = unlist(lapply(kidStats,\"[[\", \"completes\"))\n",
    "                    ))\n",
    "}\n",
    "\n",
    "set.seed(seed1)\n",
    "genKidsV(bTimes1, cTimes1, parentID = letters[1:3])"
   ]
  },
  {
   "cell_type": "markdown",
   "metadata": {},
   "source": [
    "## Family tree"
   ]
  },
  {
   "cell_type": "code",
   "execution_count": 63,
   "metadata": {
    "ExecuteTime": {
     "end_time": "2017-12-06T02:31:55.147819Z",
     "start_time": "2017-12-06T02:31:55.085Z"
    },
    "collapsed": true
   },
   "outputs": [],
   "source": [
    "familyTree = function(lambda = 0.5, kappa = 0.3, maxGen = 10) {\n",
    "       # maxGen - maximum number of generations to observe\n",
    "       # Return value - a list with 1 data frame per generation.\n",
    "  allGens = vector(mode = \"list\", length = maxGen)\n",
    "  \n",
    "       # Generate the root of the tree\n",
    "  allGens[[1]] = data.frame(parentID = 0, kidID = 1, births = 0,\n",
    "                            completes = rexp(1, rate = kappa))\n",
    "  \n",
    "       # Generate future generations, one at a time.\n",
    "  for (i in 2:maxGen) {\n",
    "    nextGen = genKidsV(bTimes = allGens[[ (i - 1) ]]$births,\n",
    "                       cTimes = allGens[[ (i - 1) ]]$completes,\n",
    "                       parentID = allGens[[ (i - 1) ]]$kidID,\n",
    "                       lambda = lambda, kappa = kappa)\n",
    "    if (is.null(nextGen)) return(allGens[ 1:(i - 1) ])\n",
    "    allGens[[ i ]] = nextGen\n",
    "  }\n",
    "  \n",
    "  return(allGens)\n",
    "      \n",
    "}\n",
    "    "
   ]
  },
  {
   "cell_type": "code",
   "execution_count": 11,
   "metadata": {
    "ExecuteTime": {
     "end_time": "2017-12-06T00:49:41.186819Z",
     "start_time": "2017-12-06T00:48:37.290Z"
    }
   },
   "outputs": [
    {
     "name": "stderr",
     "output_type": "stream",
     "text": [
      "Warning message in is.na(nextGen$births):\n",
      "\"is.na() applied to non-(list or vector) of type 'NULL'\""
     ]
    },
    {
     "data": {
      "text/html": [
       "<ol>\n",
       "\t<li>NULL</li>\n",
       "\t<li>NULL</li>\n",
       "\t<li>NULL</li>\n",
       "\t<li>NULL</li>\n",
       "</ol>\n"
      ],
      "text/latex": [
       "\\begin{enumerate}\n",
       "\\item NULL\n",
       "\\item NULL\n",
       "\\item NULL\n",
       "\\item NULL\n",
       "\\end{enumerate}\n"
      ],
      "text/markdown": [
       "1. NULL\n",
       "2. NULL\n",
       "3. NULL\n",
       "4. NULL\n",
       "\n",
       "\n"
      ],
      "text/plain": [
       "[[1]]\n",
       "NULL\n",
       "\n",
       "[[2]]\n",
       "NULL\n",
       "\n",
       "[[3]]\n",
       "NULL\n",
       "\n",
       "[[4]]\n",
       "NULL\n"
      ]
     },
     "metadata": {},
     "output_type": "display_data"
    },
    {
     "data": {
      "text/html": [
       "<strong>png:</strong> 2"
      ],
      "text/latex": [
       "\\textbf{png:} 2"
      ],
      "text/markdown": [
       "**png:** 2"
      ],
      "text/plain": [
       "png \n",
       "  2 "
      ]
     },
     "metadata": {},
     "output_type": "display_data"
    },
    {
     "data": {
      "text/html": [
       "10"
      ],
      "text/latex": [
       "10"
      ],
      "text/markdown": [
       "10"
      ],
      "text/plain": [
       "[1] 10"
      ]
     },
     "metadata": {},
     "output_type": "display_data"
    },
    {
     "data": {
      "text/html": [
       "<ol class=list-inline>\n",
       "\t<li>1</li>\n",
       "\t<li>1</li>\n",
       "\t<li>1</li>\n",
       "\t<li>5</li>\n",
       "\t<li>7</li>\n",
       "\t<li>5</li>\n",
       "\t<li>13</li>\n",
       "\t<li>39</li>\n",
       "\t<li>81</li>\n",
       "\t<li>147</li>\n",
       "</ol>\n"
      ],
      "text/latex": [
       "\\begin{enumerate*}\n",
       "\\item 1\n",
       "\\item 1\n",
       "\\item 1\n",
       "\\item 5\n",
       "\\item 7\n",
       "\\item 5\n",
       "\\item 13\n",
       "\\item 39\n",
       "\\item 81\n",
       "\\item 147\n",
       "\\end{enumerate*}\n"
      ],
      "text/markdown": [
       "1. 1\n",
       "2. 1\n",
       "3. 1\n",
       "4. 5\n",
       "5. 7\n",
       "6. 5\n",
       "7. 13\n",
       "8. 39\n",
       "9. 81\n",
       "10. 147\n",
       "\n",
       "\n"
      ],
      "text/plain": [
       " [1]   1   1   1   5   7   5  13  39  81 147"
      ]
     },
     "metadata": {},
     "output_type": "display_data"
    },
    {
     "data": {
      "text/html": [
       "300"
      ],
      "text/latex": [
       "300"
      ],
      "text/markdown": [
       "300"
      ],
      "text/plain": [
       "[1] 300"
      ]
     },
     "metadata": {},
     "output_type": "display_data"
    },
    {
     "data": {
      "text/html": [
       "<ol class=list-inline>\n",
       "\t<li>147</li>\n",
       "\t<li>286</li>\n",
       "\t<li>572</li>\n",
       "\t<li>1130</li>\n",
       "\t<li>2231</li>\n",
       "\t<li>4666</li>\n",
       "</ol>\n"
      ],
      "text/latex": [
       "\\begin{enumerate*}\n",
       "\\item 147\n",
       "\\item 286\n",
       "\\item 572\n",
       "\\item 1130\n",
       "\\item 2231\n",
       "\\item 4666\n",
       "\\end{enumerate*}\n"
      ],
      "text/markdown": [
       "1. 147\n",
       "2. 286\n",
       "3. 572\n",
       "4. 1130\n",
       "5. 2231\n",
       "6. 4666\n",
       "\n",
       "\n"
      ],
      "text/plain": [
       "[1]  147  286  572 1130 2231 4666"
      ]
     },
     "metadata": {},
     "output_type": "display_data"
    },
    {
     "data": {
      "text/html": [
       "10"
      ],
      "text/latex": [
       "10"
      ],
      "text/markdown": [
       "10"
      ],
      "text/plain": [
       "[1] 10"
      ]
     },
     "metadata": {},
     "output_type": "display_data"
    },
    {
     "data": {
      "text/html": [
       "<ol class=list-inline>\n",
       "\t<li>1</li>\n",
       "\t<li>3</li>\n",
       "\t<li>7</li>\n",
       "\t<li>19</li>\n",
       "\t<li>99</li>\n",
       "\t<li>464</li>\n",
       "\t<li>2616</li>\n",
       "\t<li>15155</li>\n",
       "\t<li>90848</li>\n",
       "\t<li>561791</li>\n",
       "</ol>\n"
      ],
      "text/latex": [
       "\\begin{enumerate*}\n",
       "\\item 1\n",
       "\\item 3\n",
       "\\item 7\n",
       "\\item 19\n",
       "\\item 99\n",
       "\\item 464\n",
       "\\item 2616\n",
       "\\item 15155\n",
       "\\item 90848\n",
       "\\item 561791\n",
       "\\end{enumerate*}\n"
      ],
      "text/markdown": [
       "1. 1\n",
       "2. 3\n",
       "3. 7\n",
       "4. 19\n",
       "5. 99\n",
       "6. 464\n",
       "7. 2616\n",
       "8. 15155\n",
       "9. 90848\n",
       "10. 561791\n",
       "\n",
       "\n"
      ],
      "text/plain": [
       " [1]      1      3      7     19     99    464   2616  15155  90848 561791"
      ]
     },
     "metadata": {},
     "output_type": "display_data"
    },
    {
     "data": {
      "text/html": [
       "671003"
      ],
      "text/latex": [
       "671003"
      ],
      "text/markdown": [
       "671003"
      ],
      "text/plain": [
       "[1] 671003"
      ]
     },
     "metadata": {},
     "output_type": "display_data"
    },
    {
     "data": {
      "text/html": [
       "989086"
      ],
      "text/latex": [
       "989086"
      ],
      "text/markdown": [
       "989086"
      ],
      "text/plain": [
       "[1] 989086"
      ]
     },
     "metadata": {},
     "output_type": "display_data"
    },
    {
     "data": {
      "text/html": [
       "<table>\n",
       "<tbody>\n",
       "\t<tr><td>0          </td><td>0.009460001</td><td>0.3108085  </td><td>0.5372426  </td><td> 1.033442  </td><td> 1.661756  </td><td> 2.055077  </td><td> 3.311186  </td><td> 3.967747  </td><td> 4.095898  </td></tr>\n",
       "\t<tr><td>0          </td><td>0.009460001</td><td>3.3884639  </td><td>6.6886600  </td><td>12.624078  </td><td>20.301736  </td><td>27.312525  </td><td>37.166142  </td><td>49.842720  </td><td>58.438001  </td></tr>\n",
       "</tbody>\n",
       "</table>\n"
      ],
      "text/latex": [
       "\\begin{tabular}{llllllllll}\n",
       "\t 0           & 0.009460001 & 0.3108085   & 0.5372426   &  1.033442   &  1.661756   &  2.055077   &  3.311186   &  3.967747   &  4.095898  \\\\\n",
       "\t 0           & 0.009460001 & 3.3884639   & 6.6886600   & 12.624078   & 20.301736   & 27.312525   & 37.166142   & 49.842720   & 58.438001  \\\\\n",
       "\\end{tabular}\n"
      ],
      "text/markdown": [
       "\n",
       "| 0           | 0.009460001 | 0.3108085   | 0.5372426   |  1.033442   |  1.661756   |  2.055077   |  3.311186   |  3.967747   |  4.095898   | \n",
       "| 0           | 0.009460001 | 3.3884639   | 6.6886600   | 12.624078   | 20.301736   | 27.312525   | 37.166142   | 49.842720   | 58.438001   | \n",
       "\n",
       "\n"
      ],
      "text/plain": [
       "     [,1] [,2]        [,3]      [,4]      [,5]      [,6]      [,7]     \n",
       "[1,] 0    0.009460001 0.3108085 0.5372426  1.033442  1.661756  2.055077\n",
       "[2,] 0    0.009460001 3.3884639 6.6886600 12.624078 20.301736 27.312525\n",
       "     [,8]      [,9]      [,10]    \n",
       "[1,]  3.311186  3.967747  4.095898\n",
       "[2,] 37.166142 49.842720 58.438001"
      ]
     },
     "metadata": {},
     "output_type": "display_data"
    },
    {
     "data": {
      "text/html": [
       "<table>\n",
       "<tbody>\n",
       "\t<tr><td>0.2136832</td><td>4.476301 </td><td>5.257532 </td><td> 5.934544</td><td> 6.46038 </td><td> 6.852209</td><td> 7.282368</td><td> 7.944772</td><td> 8.343729</td><td> 9.490732</td></tr>\n",
       "\t<tr><td>0.2136832</td><td>4.476301 </td><td>8.428051 </td><td>13.091012</td><td>21.98339 </td><td>27.514912</td><td>37.433661</td><td>50.030282</td><td>58.562122</td><td>70.258593</td></tr>\n",
       "</tbody>\n",
       "</table>\n"
      ],
      "text/latex": [
       "\\begin{tabular}{llllllllll}\n",
       "\t 0.2136832 & 4.476301  & 5.257532  &  5.934544 &  6.46038  &  6.852209 &  7.282368 &  7.944772 &  8.343729 &  9.490732\\\\\n",
       "\t 0.2136832 & 4.476301  & 8.428051  & 13.091012 & 21.98339  & 27.514912 & 37.433661 & 50.030282 & 58.562122 & 70.258593\\\\\n",
       "\\end{tabular}\n"
      ],
      "text/markdown": [
       "\n",
       "| 0.2136832 | 4.476301  | 5.257532  |  5.934544 |  6.46038  |  6.852209 |  7.282368 |  7.944772 |  8.343729 |  9.490732 | \n",
       "| 0.2136832 | 4.476301  | 8.428051  | 13.091012 | 21.98339  | 27.514912 | 37.433661 | 50.030282 | 58.562122 | 70.258593 | \n",
       "\n",
       "\n"
      ],
      "text/plain": [
       "     [,1]      [,2]     [,3]     [,4]      [,5]     [,6]      [,7]     \n",
       "[1,] 0.2136832 4.476301 5.257532  5.934544  6.46038  6.852209  7.282368\n",
       "[2,] 0.2136832 4.476301 8.428051 13.091012 21.98339 27.514912 37.433661\n",
       "     [,8]      [,9]      [,10]    \n",
       "[1,]  7.944772  8.343729  9.490732\n",
       "[2,] 50.030282 58.562122 70.258593"
      ]
     },
     "metadata": {},
     "output_type": "display_data"
    },
    {
     "data": {
      "text/html": [
       "7"
      ],
      "text/latex": [
       "7"
      ],
      "text/markdown": [
       "7"
      ],
      "text/plain": [
       "[1] 7"
      ]
     },
     "metadata": {},
     "output_type": "display_data"
    },
    {
     "data": {
      "text/html": [
       "<ol class=list-inline>\n",
       "\t<li>1</li>\n",
       "\t<li>3</li>\n",
       "\t<li>7</li>\n",
       "\t<li>19</li>\n",
       "\t<li>99</li>\n",
       "\t<li>464</li>\n",
       "\t<li>2616</li>\n",
       "</ol>\n"
      ],
      "text/latex": [
       "\\begin{enumerate*}\n",
       "\\item 1\n",
       "\\item 3\n",
       "\\item 7\n",
       "\\item 19\n",
       "\\item 99\n",
       "\\item 464\n",
       "\\item 2616\n",
       "\\end{enumerate*}\n"
      ],
      "text/markdown": [
       "1. 1\n",
       "2. 3\n",
       "3. 7\n",
       "4. 19\n",
       "5. 99\n",
       "6. 464\n",
       "7. 2616\n",
       "\n",
       "\n"
      ],
      "text/plain": [
       "[1]    1    3    7   19   99  464 2616"
      ]
     },
     "metadata": {},
     "output_type": "display_data"
    },
    {
     "data": {
      "text/html": [
       "3209"
      ],
      "text/latex": [
       "3209"
      ],
      "text/markdown": [
       "3209"
      ],
      "text/plain": [
       "[1] 3209"
      ]
     },
     "metadata": {},
     "output_type": "display_data"
    },
    {
     "data": {
      "text/html": [
       "<ol>\n",
       "\t<li>NULL</li>\n",
       "\t<li>NULL</li>\n",
       "\t<li>NULL</li>\n",
       "\t<li>NULL</li>\n",
       "\t<li>NULL</li>\n",
       "</ol>\n"
      ],
      "text/latex": [
       "\\begin{enumerate}\n",
       "\\item NULL\n",
       "\\item NULL\n",
       "\\item NULL\n",
       "\\item NULL\n",
       "\\item NULL\n",
       "\\end{enumerate}\n"
      ],
      "text/markdown": [
       "1. NULL\n",
       "2. NULL\n",
       "3. NULL\n",
       "4. NULL\n",
       "5. NULL\n",
       "\n",
       "\n"
      ],
      "text/plain": [
       "[[1]]\n",
       "NULL\n",
       "\n",
       "[[2]]\n",
       "NULL\n",
       "\n",
       "[[3]]\n",
       "NULL\n",
       "\n",
       "[[4]]\n",
       "NULL\n",
       "\n",
       "[[5]]\n",
       "NULL\n"
      ]
     },
     "metadata": {},
     "output_type": "display_data"
    },
    {
     "data": {
      "text/html": [
       "<strong>png:</strong> 2"
      ],
      "text/latex": [
       "\\textbf{png:} 2"
      ],
      "text/markdown": [
       "**png:** 2"
      ],
      "text/plain": [
       "png \n",
       "  2 "
      ]
     },
     "metadata": {},
     "output_type": "display_data"
    }
   ],
   "source": [
    "\n",
    "set.seed(seed1)\n",
    "tree = familyTree(lambda = 0.4, kappa = 1, maxGen = 10)\n",
    "\n",
    "pdf(\"BA_FamilyTree.pdf\", width = 8, height = 5)\n",
    "oldPar = par(mar = c(4.1, 4.1, 0.5, 0.5))\n",
    "\n",
    "set.seed(seed1)\n",
    "g = familyTree(lambda = 0.4, kappa = 1, maxGen = 10)\n",
    "\n",
    "maxLife = max(sapply(g, function(gen) max(gen$completes)))\n",
    "numFamily = sum(sapply(g, nrow))\n",
    "\n",
    "plot(0,0, ylim = c(0.5, numFamily + 0.5), xlim = c(0, maxLife),\n",
    "     xlab = \"Time\", ylab = \"\", type =\"n\",\n",
    "     axes = FALSE)\n",
    "\n",
    "box()\n",
    "axis(1)\n",
    "numGen = length(g)\n",
    "numKids = sapply(g, nrow)\n",
    "treeN = g[ 2:(numGen + 1) ]\n",
    "birthNum = c(0, cumsum(sapply(g, nrow))[ -length(g)])\n",
    "axis(2, at = birthNum + 1, \n",
    "     labels = paste(\"Gen\", 1:numGen), tick = FALSE, las = 1)\n",
    "\n",
    "mapply(function(gen, nextGen, birthNum) {\n",
    "  birthOrder = birthNum + (1:nrow(gen))\n",
    "  segments(x0 = gen$births, x1 = gen$completes, y0 = birthOrder,\n",
    "          lwd = 3, col = \"grey\")\n",
    "  abline(h = 0.5 + max(birthOrder), lty = 2, col=\"black\" )\n",
    "  if (all(!is.na(nextGen$births)))\n",
    "  points(x = nextGen$births, y = birthOrder[nextGen$parentID],\n",
    "         pch = 4)\n",
    "  },\n",
    "  gen = g, nextGen = treeN, birthNum = birthNum )\n",
    "par(oldPar)\n",
    "dev.off()\n",
    "\n",
    "seed2 = 12212013\n",
    "set.seed(seed2)\n",
    "tree = familyTree(lambda = 0.3, kappa = 0.5, maxGen = 10)\n",
    "\n",
    "length(tree)\n",
    "\n",
    "sapply(tree, nrow)\n",
    "\n",
    "sum(sapply(tree, nrow))\n",
    "\n",
    "set.seed(seed2)\n",
    "tree = familyTree(lambda = 0.3, kappa = 0.5, maxGen = 15)\n",
    "sapply(tree[ - (1:9) ], nrow)\n",
    "\n",
    "set.seed(seed2)\n",
    "tree = familyTree(lambda = 1, kappa = 0.5, maxGen = 10)\n",
    "\n",
    "length(tree)\n",
    "\n",
    "sapply(tree, nrow)\n",
    "\n",
    "sum(sapply(tree, nrow))\n",
    "\n",
    "tree = familyTree(lambda = 1, kappa = 0.5, maxGen = 10)\n",
    "sum(sapply(tree, nrow))\n",
    "\n",
    "sapply(tree, function(gen) range(gen$births))\n",
    "\n",
    "sapply(tree, function(gen) range(gen$completes))\n",
    "\n",
    "familyTreeT = function(lambda = 0.5, kappa = 0.3, maxTime = 8) {\n",
    "       # maxTime - maximum length of time to observe the process\n",
    "  allGens = list()\n",
    "  \n",
    "       # Generate the root of the \n",
    "  allGens[[1]] = data.frame(parentID = NA, kidID = 1, \n",
    "                            births = 0, \n",
    "                            completes = rexp(1, rate = kappa))\n",
    "  \n",
    "       # Generate the future generations, one at a time.\n",
    "  numGens = 1\n",
    "  while (TRUE) {\n",
    "    nextGen = genKidsV(bTimes = allGens[[ numGens ]]$births,\n",
    "                       cTimes = allGens[[ numGens ]]$completes,\n",
    "                       parentID = allGens[[ numGens ]]$kidID,\n",
    "                       lambda = lambda, kappa = kappa)\n",
    "    \n",
    "    if ( is.null(nextGen) | (min(nextGen$births) > maxTime) ) {\n",
    "           # If complete after maxTime set complete to NA\n",
    "      allGens = lapply(allGens, function(gen) {\n",
    "        gen$completes[ gen$completes > maxTime ] = NA\n",
    "        gen\n",
    "      })\n",
    "      return(allGens)\n",
    "    }\n",
    "    \n",
    "    # Drop those born after maxTime \n",
    "    nextGen = nextGen[ nextGen$births <= maxTime , ]\n",
    "    nextGen$kidID = 1:nrow(nextGen)\n",
    "    numGens = numGens + 1\n",
    "    allGens[[ numGens ]] = nextGen    \n",
    "  }  \n",
    "}\t\n",
    "\n",
    "familyTree = function(lambda = 0.5, kappa = 0.3, \n",
    "                      maxGen = 10, maxOffspring = 1000) {\n",
    "\n",
    "       # Return value - a list with 1 data frame per generation.\n",
    "  allGens = vector(mode = \"list\", length = maxGen)\n",
    "  \n",
    "       # Generate root of the tree\n",
    "  allGens[[1]] = data.frame(parentID = NA, kidID = 1, \n",
    "                            births = 0, \n",
    "                            completes = rexp(1, rate = kappa))\n",
    "  \n",
    "  currentNumOffspring = 0\n",
    "\n",
    "       # Generate future generations, one at a time.\n",
    "  for (i in 2:maxGen) {\n",
    "    nextGen = genKidsV(bTimes = allGens[[ (i - 1) ]]$births,\n",
    "                       cTimes = allGens[[ (i - 1) ]]$completes,\n",
    "                       parentID = allGens[[ (i - 1) ]]$kidID,\n",
    "                       lambda = lambda, kappa = kappa)\n",
    "    if (is.null(nextGen)) return(allGens[ 1:(i - 1) ]) \n",
    "    allGens[[ i ]] = nextGen\n",
    "    currentNumOffspring = currentNumOffspring + nrow(nextGen)\n",
    "    if (currentNumOffspring > maxOffspring) \n",
    "      return(allGens[1:i])\n",
    "  }  \n",
    "  allGens\n",
    "}\n",
    "\n",
    "set.seed(seed2)\n",
    "tree = familyTree(lambda = 1, kappa = 0.5, \n",
    "                  maxGen = 100, maxOffspring = 1000)\n",
    "\n",
    "length(tree)\n",
    "\n",
    "sapply(tree, nrow)\n",
    "\n",
    "sum(sapply(tree, nrow))\n",
    "\n",
    "set.seed(seed2)\n",
    "treeVT = familyTreeT(lambda = 1, kappa = 0.5)\n",
    "\n",
    "numGen = 5\n",
    "treeSub = treeVT[1:numGen]\n",
    "numKids = sapply(treeSub, nrow)\n",
    "numFamily = sum(numKids)\n",
    "\n",
    "treeSub = lapply(treeSub, \n",
    "                 function(gen) {\n",
    "                   gen$completes[ is.na(gen$completes) ] = 8\n",
    "                   gen\n",
    "                   })\n",
    "\n",
    "treeSubN = treeVT[ 2:(numGen + 1) ]\n",
    "treeSubN = lapply(treeSubN, \n",
    "                  function(gen) {\n",
    "                    gen$completes[ is.na(gen$completes) ] = 8\n",
    "                    gen\n",
    "                 })\n",
    "  \n",
    "maxLife = max(sapply(treeSub, function(gen) max(gen$completes)))\n",
    "\n",
    "birthNum = c(0, cumsum(numKids)[ -numGen ])\n",
    "\n",
    "pdf(\"BA_FamilyTreeVT.pdf\", width = 8, height = 15)\n",
    "oldPar = par(mar = c(4.1, 4.1, 0.5, 0.5))\n",
    "\n",
    "plot(0,0, ylim = c(0.5, numFamily), xlim = c(0, maxLife),\n",
    "     xlab = \"Time\", ylab = \"\", type =\"n\",\n",
    "     axes = FALSE)\n",
    "\n",
    "box()\n",
    "axis(1)\n",
    "axis(2, at = birthNum + c(0.5, rep(1, (numGen-1))), \n",
    "     labels = paste(\"Gen\", 1:numGen), tick = FALSE, las = 1)\n",
    "\n",
    "mapply(function(gen, nextGen, birthNum) {\n",
    "  birthOrder = birthNum + (1:nrow(gen))\n",
    "  segments(x0 = gen$births, x1 = gen$completes, y0 = birthOrder,\n",
    "           lwd = 3, col = \"grey\")\n",
    "  abline(h = 0.5 + max(birthOrder), lty = 2, col=\"black\" )\n",
    "  points(x = nextGen$births, y = birthOrder[nextGen$parentID],\n",
    "           pch = 4)\n",
    "}, gen = treeSub, nextGen = treeSubN, birthNum = birthNum )\n",
    "\n",
    "abline(v = maxLife)\n",
    "\n",
    "par(oldPar)\n",
    "dev.off()"
   ]
  },
  {
   "cell_type": "markdown",
   "metadata": {},
   "source": [
    "## Replicating the simulation"
   ]
  },
  {
   "cell_type": "code",
   "execution_count": null,
   "metadata": {
    "ExecuteTime": {
     "start_time": "2017-12-06T00:49:55.220Z"
    }
   },
   "outputs": [
    {
     "data": {
      "text/html": [
       "<ol class=list-inline>\n",
       "\t<li>7</li>\n",
       "\t<li>3209</li>\n",
       "</ol>\n"
      ],
      "text/latex": [
       "\\begin{enumerate*}\n",
       "\\item 7\n",
       "\\item 3209\n",
       "\\end{enumerate*}\n"
      ],
      "text/markdown": [
       "1. 7\n",
       "2. 3209\n",
       "\n",
       "\n"
      ],
      "text/plain": [
       "[1]    7 3209"
      ]
     },
     "metadata": {},
     "output_type": "display_data"
    },
    {
     "name": "stdout",
     "output_type": "stream",
     "text": [
      "param set is  1 \n",
      "param set is  2 \n",
      "param set is  3 \n",
      "param set is  4 \n"
     ]
    },
    {
     "data": {
      "text/html": [
       "<ol>\n",
       "\t<li>NULL</li>\n",
       "\t<li>NULL</li>\n",
       "\t<li>NULL</li>\n",
       "\t<li>NULL</li>\n",
       "</ol>\n"
      ],
      "text/latex": [
       "\\begin{enumerate}\n",
       "\\item NULL\n",
       "\\item NULL\n",
       "\\item NULL\n",
       "\\item NULL\n",
       "\\end{enumerate}\n"
      ],
      "text/markdown": [
       "1. NULL\n",
       "2. NULL\n",
       "3. NULL\n",
       "4. NULL\n",
       "\n",
       "\n"
      ],
      "text/plain": [
       "[[1]]\n",
       "NULL\n",
       "\n",
       "[[2]]\n",
       "NULL\n",
       "\n",
       "[[3]]\n",
       "NULL\n",
       "\n",
       "[[4]]\n",
       "NULL\n"
      ]
     },
     "metadata": {},
     "output_type": "display_data"
    },
    {
     "data": {
      "text/html": [
       "<strong>png:</strong> 2"
      ],
      "text/latex": [
       "\\textbf{png:} 2"
      ],
      "text/markdown": [
       "**png:** 2"
      ],
      "text/plain": [
       "png \n",
       "  2 "
      ]
     },
     "metadata": {},
     "output_type": "display_data"
    }
   ],
   "source": [
    "exptOne = function(l, k, mG, mO){\n",
    "       # Helper function to call familyTree\n",
    "       # Returns - summary statistics for analysis,\n",
    "  \n",
    "  aTree = familyTree(lambda = l, kappa = k, maxGen = mG,\n",
    "                      maxOffspring = mO)\n",
    "  numGen = length(aTree)\n",
    "  numJobs = sum(sapply(aTree, nrow))\n",
    "  c(numGen, numJobs)\n",
    "}\n",
    "\n",
    "set.seed(seed2)\n",
    "exptOne(1, 0.5, 100, 1000)\n",
    "\n",
    "familyTreeT = function(lambda = 0.5, kappa = 0.3, maxTime = 8) {\n",
    "  # maxTime - maximum length of time to observe the family\n",
    "  allGens = list()\n",
    "  \n",
    "  # Generate the root of the \n",
    "  allGens[[1]] = data.frame(parentID = NA, kidID = 1, \n",
    "                            births = 0, \n",
    "                            completes = rexp(1, rate = kappa))\n",
    "  \n",
    "  # Generate the future generations, one at a time.\n",
    "  numGens = 1\n",
    "  while (TRUE) {\n",
    "    nextGen = genKidsV(bTimes = allGens[[ numGens ]]$births,\n",
    "                       cTimes = allGens[[ numGens ]]$completes,\n",
    "                       parentID = allGens[[ numGens ]]$kidID,\n",
    "                       lambda = lambda, kappa = kappa)\n",
    "    \n",
    "    treeTerminated = is.null(nextGen)\n",
    "    if ( !treeTerminated ) {\n",
    "      birthsPastObsTime = min(nextGen$births) > maxTime\n",
    "    }\n",
    "    else birthsPastObsTime = TRUE\n",
    "    \n",
    "    if ( treeTerminated | birthsPastObsTime ) {\n",
    "      # If complete after maxTime set complete to NA\n",
    "      allGens = lapply(allGens, function(gen) {\n",
    "        gen$completes[ gen$completes > maxTime ] = NA\n",
    "        gen\n",
    "      })\n",
    "      return(allGens)\n",
    "    }\n",
    "    \n",
    "    # Drop those born after maxTime \n",
    "    nextGen = nextGen[ nextGen$births <= maxTime , ]\n",
    "    nextGen$kidID = 1:nrow(nextGen)\n",
    "    numGens = numGens + 1\n",
    "    allGens[[ numGens ]] = nextGen    \n",
    "  }  \n",
    "}\n",
    "\n",
    "MCBA = function(params, repeats = 5, mG = 10, mO = 1000){\n",
    "       # params: matrix columns of lambda and kappa values\n",
    "       # For each lambda and kappa pair, run \"repeats\" times\n",
    "  \n",
    "  n = nrow(params)\n",
    "  mcResults = vector(\"list\", length = n)\n",
    "  \n",
    "  for (i in 1:n) {\n",
    "    cat(\"param set is \", i, \"\\n\")\n",
    "    mcResults[[i]] = replicate(repeats,\n",
    "                               exptOne(l = params[i, 1],\n",
    "                                       k = params[i, 2],\n",
    "                                       mG = mG, mO = mO))\n",
    "  }\n",
    "  mcResults\n",
    "}\n",
    "\n",
    "trialKappas = c(0.1, 10, 0.1, 10)\n",
    "trialLambdas = c(0.1, 0.1, 10, 10)\n",
    "trialParams = matrix(c(trialLambdas, trialKappas), ncol = 2)\n",
    "mcTrialOutput = MCBA(params = trialParams, repeats = 100, \n",
    "                     mG = 200, mO = 100000)\n",
    "\n",
    "save(mcTrialOutput, file = \"mcTrialOutput.rda\")\n",
    "\n",
    "pdf(\"BA_ScatterPlotNumGenByNumKids.pdf\", width = 10, height = 8)\n",
    "\n",
    "oldPar = par(mfrow = c(2, 2), mar = c(3,3,1,1))\n",
    "\n",
    "mapply(function(oneSet, lambda, kappa) {\n",
    "  plot(x = oneSet[2,], y = jitter(oneSet[1, ], 1), log = \"x\",\n",
    "       ylim = c(1,20), xlim = c(1, 10^7), pch = 19, cex = 0.6)\n",
    "  text(x = 50, y = 15, bquote(paste(lambda == .(lambda))) )\n",
    "  text(x = 300, y = 15, bquote(paste(kappa == .(kappa))) )\n",
    "  }, \n",
    "  mcTrialOutput, lambda = trialLambdas, kappa = trialKappas)\n",
    "\n",
    "par(oldPar)\n",
    "\n",
    "dev.off()\n",
    "\n",
    "lambdas = c(seq(0.1, 0.6, by = 0.1), seq(0.8, 2, by = 0.2), \n",
    "            seq(2.25, 3, by = 0.25))\n",
    "kappas = c(lambdas, 3.25, 3.50, 3.75, 4.00, 4.50, 5.00)\n",
    "\n",
    "paramGrid = as.matrix(expand.grid(lambdas, kappas))\n",
    "\n",
    "pdf(\"BA_Scatterplot3Dkids.pdf\", width = 7, height = 6)\n",
    "\n",
    "mcGrid = MCBA(params = paramGrid, repeats = 400, mG = 20,\n",
    "                mO = 1000)\n",
    "\n",
    "save(mcGrid, file = \"mcGridOutput.rda\")\n",
    "\n",
    "logUQkids = sapply(mcGrid, function(x) \n",
    "               log(quantile(x[2, ], probs = 0.75), base = 10))\n",
    "\n",
    "UQCut = cut(logUQkids, breaks = c(-0.1, 0.5, 2, max(logUQkids)) )\n",
    "color3 = c(\"#b3cde3aa\", \"#8856a7aa\", \"#810f7caa\")\n",
    "colors = color3[UQCut]\n",
    "\n",
    "library(scatterplot3d)\n",
    "sdp = scatterplot3d(x = paramGrid[ , 1], y = paramGrid[ , 2], \n",
    "                    z = logUQkids, pch = 15, color = colors,\n",
    "                    xlab = \"Lambda\", ylab = \"Kappa\",\n",
    "                    zlab = \"Upper Quartile Offspring\",\n",
    "                    angle = 120, type=\"h\")\n",
    "\n",
    "legend(\"left\", inset = .08, bty = \"n\", cex = 0.8,\n",
    "       legend = c(\"[0, 0.5)\", \"[0.5, 2)\", \"[2, 5)\"), \n",
    "       fill = color3)\n",
    "\n",
    "dev.off()\n",
    "\n",
    "pdf(\"BA_ImageMapAlive.pdf\", width = 7, height = 7)\n",
    "oldPar  = par(mar = c(4.1, 4.1, 0.5, 0.5))\n",
    "\n",
    "mcGridAlive = sapply(mcGrid, function(oneParamSet) {\n",
    "  sum((oneParamSet[1,] == 20) | (oneParamSet[2,] > 1000)) / \n",
    "    length(oneParamSet[2,]) })\n",
    "\n",
    "filled.contour(lambdas, kappas, \n",
    "               matrix(mcGridAlive, nrow = length(lambdas), \n",
    "                      ncol = length(kappas)), \n",
    "               xlab = \"Lambda\", ylab = \"Kappa\", \n",
    "               xlim = c(0.1, 3), ylim = c(0.1, 3.1)) \n",
    "\n",
    "par(oldPar)\n",
    "dev.off()\n",
    "\n",
    "pdf(\"BA_ImageMapAtleast20Kids.pdf\", width = 7, height = 7)\n",
    "oldPar  = par(mar = c(4.1, 4.1, 2, 1))\n",
    "\n",
    "mcGridProp20kids = sapply(mcGrid, function(oneParamSet) {\n",
    "  sum(oneParamSet[2,] > 19) / length(oneParamSet[2,]) })\n",
    "\n",
    "mcGridProp20kidsMat = matrix(mcGridProp20kids, \n",
    "                             nrow = length(lambdas), \n",
    "                             ncol = length(kappas))\n",
    "\n",
    "breaks = c(0, 0.10, 0.2, 0.3, 0.5, 0.7, 0.9, 1)\n",
    "colors = rev(rainbow(10))[-(1:3)]\n",
    "\n",
    "image(lambdas, kappas, mcGridProp20kidsMat, col = colors,\n",
    "      breaks = breaks, xlab = \"Lambda\", ylab = \"Kappa\", \n",
    "      xlim = c(0.05, 3.05), ylim = c(0.05, 3.05))\n",
    "\n",
    "midBreaks = (breaks[ -8 ] + breaks[ -1 ]) / 2\n",
    "legend(x = 0.1, y = 3.25, legend = midBreaks, fill = cols, \n",
    "       bty = \"n\", ncol = 7,  xpd = TRUE)\n",
    "\n",
    "par(oldPar)\n",
    "dev.off()"
   ]
  },
  {
   "cell_type": "markdown",
   "metadata": {},
   "source": [
    "# Q.6 - Make a Custom Visualization\n",
    "\n",
    "Figure 7.4 in the book, is a custom visualization of the birth and completion times for a tree. Design an alternative custom visualization of the return value from familyTree().\n",
    "<hr>\n",
    "\n",
    "__Solution:__ <br>\n",
    "First, we go through and learn that the return value for    <span class=\"burk\">```familyTree()``` </span> is a list of dataFrames. Also, the Parent/Root Node is of parentID return value of \"NA\" which was changed in the function to 0 for simplicity and uniformness of numeric data. We leverage in R the dplyr package to utilize    <span class=\"burk\">```bind_rows()```</span> to combine into one dataframe. Then we construct some simple preliminary statistics, summary, groupbys, and barplot of what we are looking at overall.\n",
    "\n",
    "Naturally, we then wanted to see how _Dendrograms_ and _Phylogenetic_ plots looked when handling hierarchical data. It was very interesting to see how the plots changed over the different groupings."
   ]
  },
  {
   "cell_type": "code",
   "execution_count": 188,
   "metadata": {
    "ExecuteTime": {
     "end_time": "2017-12-06T05:22:49.376319Z",
     "start_time": "2017-12-06T05:22:49.163Z"
    },
    "scrolled": false
   },
   "outputs": [
    {
     "data": {
      "text/plain": [
       "      df               parentID         kidID           births      \n",
       " Length:9           Min.   :0.000   Min.   :1.000   Min.   :0.0000  \n",
       " Class :character   1st Qu.:1.000   1st Qu.:1.000   1st Qu.:0.2921  \n",
       " Mode  :character   Median :1.000   Median :2.000   Median :0.7177  \n",
       "                    Mean   :1.556   Mean   :1.778   Mean   :1.2531  \n",
       "                    3rd Qu.:2.000   3rd Qu.:2.000   3rd Qu.:2.5742  \n",
       "                    Max.   :3.000   Max.   :3.000   Max.   :3.1118  \n",
       "   completes     \n",
       " Min.   :0.8245  \n",
       " 1st Qu.:2.4800  \n",
       " Median :4.2913  \n",
       " Mean   :3.4480  \n",
       " 3rd Qu.:4.7825  \n",
       " Max.   :5.5010  "
      ]
     },
     "metadata": {},
     "output_type": "display_data"
    },
    {
     "data": {
      "text/html": [
       "<table>\n",
       "<thead><tr><th scope=col>df</th><th scope=col>parentID</th><th scope=col>kidID</th><th scope=col>births</th><th scope=col>completes</th></tr></thead>\n",
       "<tbody>\n",
       "\t<tr><td>1        </td><td>0        </td><td>1        </td><td>0.0000000</td><td>0.8244658</td></tr>\n",
       "\t<tr><td>2        </td><td>1        </td><td>1        </td><td>0.1908525</td><td>0.9280697</td></tr>\n",
       "\t<tr><td>2        </td><td>1        </td><td>2        </td><td>0.4631948</td><td>4.6525607</td></tr>\n",
       "\t<tr><td>3        </td><td>1        </td><td>1        </td><td>0.2921203</td><td>2.4799670</td></tr>\n",
       "\t<tr><td>3        </td><td>1        </td><td>2        </td><td>0.7177455</td><td>2.7374096</td></tr>\n",
       "\t<tr><td>3        </td><td>2        </td><td>3        </td><td>1.3348405</td><td>4.7825003</td></tr>\n",
       "\t<tr><td>4        </td><td>2        </td><td>1        </td><td>2.5742173</td><td>4.2912875</td></tr>\n",
       "\t<tr><td>4        </td><td>3        </td><td>2        </td><td>2.5931320</td><td>5.5009648</td></tr>\n",
       "\t<tr><td>4        </td><td>3        </td><td>3        </td><td>3.1117844</td><td>4.8347507</td></tr>\n",
       "</tbody>\n",
       "</table>\n"
      ],
      "text/latex": [
       "\\begin{tabular}{r|lllll}\n",
       " df & parentID & kidID & births & completes\\\\\n",
       "\\hline\n",
       "\t 1         & 0         & 1         & 0.0000000 & 0.8244658\\\\\n",
       "\t 2         & 1         & 1         & 0.1908525 & 0.9280697\\\\\n",
       "\t 2         & 1         & 2         & 0.4631948 & 4.6525607\\\\\n",
       "\t 3         & 1         & 1         & 0.2921203 & 2.4799670\\\\\n",
       "\t 3         & 1         & 2         & 0.7177455 & 2.7374096\\\\\n",
       "\t 3         & 2         & 3         & 1.3348405 & 4.7825003\\\\\n",
       "\t 4         & 2         & 1         & 2.5742173 & 4.2912875\\\\\n",
       "\t 4         & 3         & 2         & 2.5931320 & 5.5009648\\\\\n",
       "\t 4         & 3         & 3         & 3.1117844 & 4.8347507\\\\\n",
       "\\end{tabular}\n"
      ],
      "text/markdown": [
       "\n",
       "df | parentID | kidID | births | completes | \n",
       "|---|---|---|---|---|---|---|---|---|\n",
       "| 1         | 0         | 1         | 0.0000000 | 0.8244658 | \n",
       "| 2         | 1         | 1         | 0.1908525 | 0.9280697 | \n",
       "| 2         | 1         | 2         | 0.4631948 | 4.6525607 | \n",
       "| 3         | 1         | 1         | 0.2921203 | 2.4799670 | \n",
       "| 3         | 1         | 2         | 0.7177455 | 2.7374096 | \n",
       "| 3         | 2         | 3         | 1.3348405 | 4.7825003 | \n",
       "| 4         | 2         | 1         | 2.5742173 | 4.2912875 | \n",
       "| 4         | 3         | 2         | 2.5931320 | 5.5009648 | \n",
       "| 4         | 3         | 3         | 3.1117844 | 4.8347507 | \n",
       "\n",
       "\n"
      ],
      "text/plain": [
       "  df parentID kidID births    completes\n",
       "1 1  0        1     0.0000000 0.8244658\n",
       "2 2  1        1     0.1908525 0.9280697\n",
       "3 2  1        2     0.4631948 4.6525607\n",
       "4 3  1        1     0.2921203 2.4799670\n",
       "5 3  1        2     0.7177455 2.7374096\n",
       "6 3  2        3     1.3348405 4.7825003\n",
       "7 4  2        1     2.5742173 4.2912875\n",
       "8 4  3        2     2.5931320 5.5009648\n",
       "9 4  3        3     3.1117844 4.8347507"
      ]
     },
     "metadata": {},
     "output_type": "display_data"
    },
    {
     "data": {
      "text/html": [
       "<table>\n",
       "<thead><tr><th scope=col>parentID</th><th scope=col>kidID</th><th scope=col>CompFreq</th><th scope=col>BirthFreq</th></tr></thead>\n",
       "<tbody>\n",
       "\t<tr><td>0        </td><td>1        </td><td>0.8244658</td><td>0.0000000</td></tr>\n",
       "\t<tr><td>1        </td><td>1        </td><td>3.4080367</td><td>0.4829728</td></tr>\n",
       "\t<tr><td>1        </td><td>2        </td><td>7.3899704</td><td>1.1809402</td></tr>\n",
       "\t<tr><td>2        </td><td>1        </td><td>4.2912875</td><td>2.5742173</td></tr>\n",
       "\t<tr><td>2        </td><td>3        </td><td>4.7825003</td><td>1.3348405</td></tr>\n",
       "\t<tr><td>3        </td><td>2        </td><td>5.5009648</td><td>2.5931320</td></tr>\n",
       "\t<tr><td>3        </td><td>3        </td><td>4.8347507</td><td>3.1117844</td></tr>\n",
       "</tbody>\n",
       "</table>\n"
      ],
      "text/latex": [
       "\\begin{tabular}{r|llll}\n",
       " parentID & kidID & CompFreq & BirthFreq\\\\\n",
       "\\hline\n",
       "\t 0         & 1         & 0.8244658 & 0.0000000\\\\\n",
       "\t 1         & 1         & 3.4080367 & 0.4829728\\\\\n",
       "\t 1         & 2         & 7.3899704 & 1.1809402\\\\\n",
       "\t 2         & 1         & 4.2912875 & 2.5742173\\\\\n",
       "\t 2         & 3         & 4.7825003 & 1.3348405\\\\\n",
       "\t 3         & 2         & 5.5009648 & 2.5931320\\\\\n",
       "\t 3         & 3         & 4.8347507 & 3.1117844\\\\\n",
       "\\end{tabular}\n"
      ],
      "text/markdown": [
       "\n",
       "parentID | kidID | CompFreq | BirthFreq | \n",
       "|---|---|---|---|---|---|---|\n",
       "| 0         | 1         | 0.8244658 | 0.0000000 | \n",
       "| 1         | 1         | 3.4080367 | 0.4829728 | \n",
       "| 1         | 2         | 7.3899704 | 1.1809402 | \n",
       "| 2         | 1         | 4.2912875 | 2.5742173 | \n",
       "| 2         | 3         | 4.7825003 | 1.3348405 | \n",
       "| 3         | 2         | 5.5009648 | 2.5931320 | \n",
       "| 3         | 3         | 4.8347507 | 3.1117844 | \n",
       "\n",
       "\n"
      ],
      "text/plain": [
       "  parentID kidID CompFreq  BirthFreq\n",
       "1 0        1     0.8244658 0.0000000\n",
       "2 1        1     3.4080367 0.4829728\n",
       "3 1        2     7.3899704 1.1809402\n",
       "4 2        1     4.2912875 2.5742173\n",
       "5 2        3     4.7825003 1.3348405\n",
       "6 3        2     5.5009648 2.5931320\n",
       "7 3        3     4.8347507 3.1117844"
      ]
     },
     "metadata": {},
     "output_type": "display_data"
    },
    {
     "data": {
      "image/png": "[encoded data removed]",
      "text/plain": [
       "Plot with title \"Birth Rates\""
      ]
     },
     "metadata": {},
     "output_type": "display_data"
    },
    {
     "data": {
      "image/png": "[encoded data removed]",
      "text/plain": [
       "plot without title"
      ]
     },
     "metadata": {},
     "output_type": "display_data"
    }
   ],
   "source": [
    "set.seed(seed1)\n",
    "tree = familyTree(lambda = 0.4, kappa = 1, maxGen = 10)\n",
    "\n",
    "library(dplyr)\n",
    "df = bind_rows(tree, .id=\"df\")\n",
    "summary(df)\n",
    "df\n",
    "\n",
    "# Simple BarPlot to see BirthRates\n",
    "barplot(height = df$births, ylab = 'Births',\n",
    "       col = heat.colors(12), angle=df$completes, main='Birth Rates')\n",
    "\n",
    "\n",
    "# GroupBy the DataFrame - ParentID ~ KidID (2 Levels)\n",
    "grp <- df %>% \n",
    "  group_by(parentID, kidID) %>% \n",
    "  summarise(CompFreq = sum(completes), BirthFreq= sum(births) )\n",
    "\n",
    "grp\n",
    "\n",
    "\n",
    "# Function for diagonal histograms in the pairplot\n",
    "panel.hist <- function(x, ...)\n",
    "{\n",
    "    usr <- par(\"usr\"); on.exit(par(usr))\n",
    "    par(usr = c(usr[1:2], 0, 1.5) )\n",
    "    h <- hist(x, plot = FALSE)\n",
    "    breaks <- h$breaks; nB <- length(breaks)\n",
    "    y <- h$counts; y <- y/max(y)\n",
    "    rect(breaks[-nB], 0, breaks[-1], y, col = \"cyan\", ...)\n",
    "}\n",
    "pairs(grp, diag.panel=panel.hist)\n"
   ]
  },
  {
   "cell_type": "markdown",
   "metadata": {},
   "source": [
    "## Dendrograms and Phylogenetic Fans\n",
    "<hr>\n",
    "\n",
    "We will first start off with the Original DataFrame"
   ]
  },
  {
   "cell_type": "code",
   "execution_count": 179,
   "metadata": {
    "ExecuteTime": {
     "end_time": "2017-12-06T04:17:36.836319Z",
     "start_time": "2017-12-06T04:17:36.757Z"
    }
   },
   "outputs": [
    {
     "data": {
      "text/html": [
       "<table>\n",
       "<thead><tr><th scope=col>df</th><th scope=col>parentID</th><th scope=col>kidID</th><th scope=col>births</th><th scope=col>completes</th></tr></thead>\n",
       "<tbody>\n",
       "\t<tr><td>1        </td><td>0        </td><td>1        </td><td>0.0000000</td><td>0.8244658</td></tr>\n",
       "\t<tr><td>2        </td><td>1        </td><td>1        </td><td>0.1908525</td><td>0.9280697</td></tr>\n",
       "\t<tr><td>2        </td><td>1        </td><td>2        </td><td>0.4631948</td><td>4.6525607</td></tr>\n",
       "\t<tr><td>3        </td><td>1        </td><td>1        </td><td>0.2921203</td><td>2.4799670</td></tr>\n",
       "\t<tr><td>3        </td><td>1        </td><td>2        </td><td>0.7177455</td><td>2.7374096</td></tr>\n",
       "\t<tr><td>3        </td><td>2        </td><td>3        </td><td>1.3348405</td><td>4.7825003</td></tr>\n",
       "\t<tr><td>4        </td><td>2        </td><td>1        </td><td>2.5742173</td><td>4.2912875</td></tr>\n",
       "\t<tr><td>4        </td><td>3        </td><td>2        </td><td>2.5931320</td><td>5.5009648</td></tr>\n",
       "\t<tr><td>4        </td><td>3        </td><td>3        </td><td>3.1117844</td><td>4.8347507</td></tr>\n",
       "</tbody>\n",
       "</table>\n"
      ],
      "text/latex": [
       "\\begin{tabular}{r|lllll}\n",
       " df & parentID & kidID & births & completes\\\\\n",
       "\\hline\n",
       "\t 1         & 0         & 1         & 0.0000000 & 0.8244658\\\\\n",
       "\t 2         & 1         & 1         & 0.1908525 & 0.9280697\\\\\n",
       "\t 2         & 1         & 2         & 0.4631948 & 4.6525607\\\\\n",
       "\t 3         & 1         & 1         & 0.2921203 & 2.4799670\\\\\n",
       "\t 3         & 1         & 2         & 0.7177455 & 2.7374096\\\\\n",
       "\t 3         & 2         & 3         & 1.3348405 & 4.7825003\\\\\n",
       "\t 4         & 2         & 1         & 2.5742173 & 4.2912875\\\\\n",
       "\t 4         & 3         & 2         & 2.5931320 & 5.5009648\\\\\n",
       "\t 4         & 3         & 3         & 3.1117844 & 4.8347507\\\\\n",
       "\\end{tabular}\n"
      ],
      "text/markdown": [
       "\n",
       "df | parentID | kidID | births | completes | \n",
       "|---|---|---|---|---|---|---|---|---|\n",
       "| 1         | 0         | 1         | 0.0000000 | 0.8244658 | \n",
       "| 2         | 1         | 1         | 0.1908525 | 0.9280697 | \n",
       "| 2         | 1         | 2         | 0.4631948 | 4.6525607 | \n",
       "| 3         | 1         | 1         | 0.2921203 | 2.4799670 | \n",
       "| 3         | 1         | 2         | 0.7177455 | 2.7374096 | \n",
       "| 3         | 2         | 3         | 1.3348405 | 4.7825003 | \n",
       "| 4         | 2         | 1         | 2.5742173 | 4.2912875 | \n",
       "| 4         | 3         | 2         | 2.5931320 | 5.5009648 | \n",
       "| 4         | 3         | 3         | 3.1117844 | 4.8347507 | \n",
       "\n",
       "\n"
      ],
      "text/plain": [
       "  df parentID kidID births    completes\n",
       "1 1  0        1     0.0000000 0.8244658\n",
       "2 2  1        1     0.1908525 0.9280697\n",
       "3 2  1        2     0.4631948 4.6525607\n",
       "4 3  1        1     0.2921203 2.4799670\n",
       "5 3  1        2     0.7177455 2.7374096\n",
       "6 3  2        3     1.3348405 4.7825003\n",
       "7 4  2        1     2.5742173 4.2912875\n",
       "8 4  3        2     2.5931320 5.5009648\n",
       "9 4  3        3     3.1117844 4.8347507"
      ]
     },
     "metadata": {},
     "output_type": "display_data"
    }
   ],
   "source": [
    "df"
   ]
  },
  {
   "cell_type": "code",
   "execution_count": 184,
   "metadata": {
    "ExecuteTime": {
     "end_time": "2017-12-06T04:30:05.154319Z",
     "start_time": "2017-12-06T04:30:04.966Z"
    },
    "scrolled": false
   },
   "outputs": [
    {
     "data": {
      "image/png": "[encoded data removed]",
      "text/plain": [
       "Plot with title \"Dendrograms over Original Tree\""
      ]
     },
     "metadata": {},
     "output_type": "display_data"
    },
    {
     "data": {
      "image/png": "[encoded data removed]",
      "text/plain": [
       "Plot with title \"Phylogenetic over Original Tree\""
      ]
     },
     "metadata": {},
     "output_type": "display_data"
    },
    {
     "data": {
      "image/png": "[encoded data removed]",
      "text/plain": [
       "Plot with title \"Unrooted Dendrograms over Original Tree\""
      ]
     },
     "metadata": {},
     "output_type": "display_data"
    }
   ],
   "source": [
    "# install.packages('ape', repos='http://cran.us.r-project.org')\n",
    "library(ape)\n",
    "\n",
    "# Dendo and Phylo the regular dataFrame DF\n",
    "hc = hclust(dist(df))\n",
    "hcd = as.dendrogram(hc)\n",
    "plot(hcd, type='triangle', main='Dendrograms over Original Tree')\n",
    "plot(as.phylo(hc), main='Phylogenetic over Original Tree')\n",
    "\n",
    "# Try Unrooted \n",
    "plot(as.phylo(hc), type='unrooted', main='Unrooted Dendrograms over Original Tree')"
   ]
  },
  {
   "cell_type": "markdown",
   "metadata": {},
   "source": [
    "### Dendrograms and Phylogenetic Fans with Groupby\n",
    "<hr>\n",
    "\n",
    "Now observe the Groupby Data - ParentID and KidID"
   ]
  },
  {
   "cell_type": "code",
   "execution_count": 178,
   "metadata": {
    "ExecuteTime": {
     "end_time": "2017-12-06T04:16:06.023819Z",
     "start_time": "2017-12-06T04:16:05.861Z"
    },
    "scrolled": false
   },
   "outputs": [
    {
     "data": {
      "image/png": "[encoded data removed]",
      "text/plain": [
       "Plot with title \"Groupby ParentID and KidID\""
      ]
     },
     "metadata": {},
     "output_type": "display_data"
    },
    {
     "data": {
      "text/html": [
       "<table>\n",
       "<thead><tr><th scope=col>parentID</th><th scope=col>kidID</th><th scope=col>CompFreq</th><th scope=col>BirthFreq</th></tr></thead>\n",
       "<tbody>\n",
       "\t<tr><td>0        </td><td>1        </td><td>0.8244658</td><td>0.0000000</td></tr>\n",
       "\t<tr><td>1        </td><td>1        </td><td>3.4080367</td><td>0.4829728</td></tr>\n",
       "\t<tr><td>1        </td><td>2        </td><td>7.3899704</td><td>1.1809402</td></tr>\n",
       "\t<tr><td>2        </td><td>1        </td><td>4.2912875</td><td>2.5742173</td></tr>\n",
       "\t<tr><td>2        </td><td>3        </td><td>4.7825003</td><td>1.3348405</td></tr>\n",
       "\t<tr><td>3        </td><td>2        </td><td>5.5009648</td><td>2.5931320</td></tr>\n",
       "\t<tr><td>3        </td><td>3        </td><td>4.8347507</td><td>3.1117844</td></tr>\n",
       "</tbody>\n",
       "</table>\n"
      ],
      "text/latex": [
       "\\begin{tabular}{r|llll}\n",
       " parentID & kidID & CompFreq & BirthFreq\\\\\n",
       "\\hline\n",
       "\t 0         & 1         & 0.8244658 & 0.0000000\\\\\n",
       "\t 1         & 1         & 3.4080367 & 0.4829728\\\\\n",
       "\t 1         & 2         & 7.3899704 & 1.1809402\\\\\n",
       "\t 2         & 1         & 4.2912875 & 2.5742173\\\\\n",
       "\t 2         & 3         & 4.7825003 & 1.3348405\\\\\n",
       "\t 3         & 2         & 5.5009648 & 2.5931320\\\\\n",
       "\t 3         & 3         & 4.8347507 & 3.1117844\\\\\n",
       "\\end{tabular}\n"
      ],
      "text/markdown": [
       "\n",
       "parentID | kidID | CompFreq | BirthFreq | \n",
       "|---|---|---|---|---|---|---|\n",
       "| 0         | 1         | 0.8244658 | 0.0000000 | \n",
       "| 1         | 1         | 3.4080367 | 0.4829728 | \n",
       "| 1         | 2         | 7.3899704 | 1.1809402 | \n",
       "| 2         | 1         | 4.2912875 | 2.5742173 | \n",
       "| 2         | 3         | 4.7825003 | 1.3348405 | \n",
       "| 3         | 2         | 5.5009648 | 2.5931320 | \n",
       "| 3         | 3         | 4.8347507 | 3.1117844 | \n",
       "\n",
       "\n"
      ],
      "text/plain": [
       "  parentID kidID CompFreq  BirthFreq\n",
       "1 0        1     0.8244658 0.0000000\n",
       "2 1        1     3.4080367 0.4829728\n",
       "3 1        2     7.3899704 1.1809402\n",
       "4 2        1     4.2912875 2.5742173\n",
       "5 2        3     4.7825003 1.3348405\n",
       "6 3        2     5.5009648 2.5931320\n",
       "7 3        3     4.8347507 3.1117844"
      ]
     },
     "metadata": {},
     "output_type": "display_data"
    },
    {
     "data": {
      "image/png": "[encoded data removed]",
      "text/plain": [
       "Plot with title \"Fan over Groupby on ParentID and KidID\""
      ]
     },
     "metadata": {},
     "output_type": "display_data"
    }
   ],
   "source": [
    "# Dendo the Groupby on ParentID and KidID\n",
    "hc = hclust(dist(grp))\n",
    "hcd = as.dendrogram(hc)\n",
    "plot(hcd, type='triangle', main='Groupby ParentID and KidID')\n",
    "plot(as.phylo(hc), type = \"fan\", main='Fan over Groupby on ParentID and KidID')\n",
    "grp"
   ]
  },
  {
   "cell_type": "markdown",
   "metadata": {},
   "source": [
    "### Dendrograms and Phylogenetic Fans with Groupby\n",
    "<hr>\n",
    "\n",
    "Now observe the Groupby Data - ParentID.  Below we graph the relationship between parent and child nodes using two separate visualizations: dendrograms and phylogenetic fans.  Given the relatively shallow depth the dendrogram appears to convey the information more clearly; however, the phylogenetic fan may be better suited for deeper graphs (child nodes with more offspring)."
   ]
  },
  {
   "cell_type": "code",
   "execution_count": 189,
   "metadata": {
    "ExecuteTime": {
     "end_time": "2017-12-06T05:24:52.120819Z",
     "start_time": "2017-12-06T05:24:51.903Z"
    },
    "scrolled": false
   },
   "outputs": [
    {
     "data": {
      "text/html": [
       "<table>\n",
       "<thead><tr><th scope=col>parentID</th><th scope=col>CompFreq</th><th scope=col>BirthFreq</th></tr></thead>\n",
       "<tbody>\n",
       "\t<tr><td>0         </td><td> 0.8244658</td><td>0.000000  </td></tr>\n",
       "\t<tr><td>1         </td><td>10.7980071</td><td>1.663913  </td></tr>\n",
       "\t<tr><td>2         </td><td> 9.0737878</td><td>3.909058  </td></tr>\n",
       "\t<tr><td>3         </td><td>10.3357156</td><td>5.704916  </td></tr>\n",
       "</tbody>\n",
       "</table>\n"
      ],
      "text/latex": [
       "\\begin{tabular}{r|lll}\n",
       " parentID & CompFreq & BirthFreq\\\\\n",
       "\\hline\n",
       "\t 0          &  0.8244658 & 0.000000  \\\\\n",
       "\t 1          & 10.7980071 & 1.663913  \\\\\n",
       "\t 2          &  9.0737878 & 3.909058  \\\\\n",
       "\t 3          & 10.3357156 & 5.704916  \\\\\n",
       "\\end{tabular}\n"
      ],
      "text/markdown": [
       "\n",
       "parentID | CompFreq | BirthFreq | \n",
       "|---|---|---|---|\n",
       "| 0          |  0.8244658 | 0.000000   | \n",
       "| 1          | 10.7980071 | 1.663913   | \n",
       "| 2          |  9.0737878 | 3.909058   | \n",
       "| 3          | 10.3357156 | 5.704916   | \n",
       "\n",
       "\n"
      ],
      "text/plain": [
       "  parentID CompFreq   BirthFreq\n",
       "1 0         0.8244658 0.000000 \n",
       "2 1        10.7980071 1.663913 \n",
       "3 2         9.0737878 3.909058 \n",
       "4 3        10.3357156 5.704916 "
      ]
     },
     "metadata": {},
     "output_type": "display_data"
    },
    {
     "data": {
      "image/png": "[encoded data removed]",
      "text/plain": [
       "Plot with title \"Groupby ParentID\""
      ]
     },
     "metadata": {},
     "output_type": "display_data"
    },
    {
     "data": {
      "image/png": "[encoded data removed]",
      "text/plain": [
       "Plot with title \"Fan over Groupby on ParentID\""
      ]
     },
     "metadata": {},
     "output_type": "display_data"
    }
   ],
   "source": [
    "# GroupBy the DataFrame - ParentID\n",
    "grp2 <- df %>% \n",
    "  group_by(parentID) %>% \n",
    "  summarise(CompFreq = sum(completes), BirthFreq= sum(births) )\n",
    "\n",
    "grp2\n",
    "\n",
    "# Dendo the Groupby on ParentID\n",
    "hc = hclust(dist(grp2))\n",
    "hcd = as.dendrogram(hc)\n",
    "plot(hcd, type='triangle', main='Groupby ParentID')\n",
    "plot(as.phylo(hc), type = \"fan\", main='Fan over Groupby on ParentID')\n"
   ]
  },
  {
   "cell_type": "markdown",
   "metadata": {},
   "source": [
    "# Conclusion\n",
    "\n",
    "The visuals are the way to go when trying to communicate the translation between the numbers and what is going on. You can quickly digest the information as opposed to tediously reading through the numbers. The Dendrograms and Phylogenetic Fans do a great job showing hierarchical relationships between parent's and children that could go unnoticed thumbing through a dataframe. This is especially true in situations where child nodes spawn children of their own and the relationships become increasingly complex."
   ]
  },
  {
   "cell_type": "code",
   "execution_count": null,
   "metadata": {},
   "outputs": [],
   "source": []
  }
 ],
 "metadata": {
  "hide_input": false,
  "kernelspec": {
   "display_name": "R",
   "language": "R",
   "name": "ir"
  },
  "language_info": {
   "codemirror_mode": "r",
   "file_extension": ".r",
   "mimetype": "text/x-r-source",
   "name": "R",
   "pygments_lexer": "r",
   "version": "3.4.1"
  },
  "toc": {
   "nav_menu": {},
   "number_sections": true,
   "sideBar": true,
   "skip_h1_title": false,
   "toc_cell": true,
   "toc_position": {},
   "toc_section_display": "block",
   "toc_window_display": false
  }
 },
 "nbformat": 4,
 "nbformat_minor": 2
}
